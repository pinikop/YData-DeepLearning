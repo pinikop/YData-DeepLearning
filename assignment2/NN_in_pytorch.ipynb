{
 "cells": [
  {
   "cell_type": "markdown",
   "metadata": {},
   "source": [
    "# Neural Network using PyTorch"
   ]
  },
  {
   "cell_type": "markdown",
   "metadata": {},
   "source": [
    "In this exercise, you will build a neural network using PyTorch, and apply it to a dataset. Our goal in this exercise is not necessarily to obtain the best results on the dataset. We care more about understanding the different parameters, getting a hands-on experience training networks, and monitoring and debugging them. For this reason, I actually recommend that you don’t use a GPU, and run the code on your local machine, for simpler debugging.\n",
    "\n",
    "\n",
    "You can get relevant code snippets from [the PyTorch documentation](https://pytorch.org/tutorials/beginner/blitz/cifar10_tutorial.html) or other sources online. "
   ]
  },
  {
   "cell_type": "markdown",
   "metadata": {},
   "source": [
    "## Dataset\n",
    "We will use the CIFAR-10 dataset."
   ]
  },
  {
   "cell_type": "code",
   "execution_count": 1,
   "metadata": {
    "ExecuteTime": {
     "end_time": "2020-03-21T11:58:25.945685Z",
     "start_time": "2020-03-21T11:58:25.527534Z"
    }
   },
   "outputs": [],
   "source": [
    "import torch\n",
    "import torchvision\n",
    "import torchvision.transforms as transforms\n",
    "%matplotlib inline\n"
   ]
  },
  {
   "cell_type": "code",
   "execution_count": 2,
   "metadata": {
    "ExecuteTime": {
     "end_time": "2020-03-21T11:58:28.132226Z",
     "start_time": "2020-03-21T11:58:26.970411Z"
    }
   },
   "outputs": [
    {
     "name": "stdout",
     "output_type": "stream",
     "text": [
      "Files already downloaded and verified\n",
      "Files already downloaded and verified\n"
     ]
    }
   ],
   "source": [
    "BATCH_SIZE = 8\n",
    "NUM_WORKERS = 4\n",
    "LOG_DIR = 'runs'\n",
    "\n",
    "transform = transforms.Compose(\n",
    "    [transforms.ToTensor(),\n",
    "     transforms.Normalize((0.5, 0.5, 0.5), (0.5, 0.5, 0.5))])\n",
    "\n",
    "trainset = torchvision.datasets.CIFAR10(root='./data', train=True,\n",
    "                                        download=True, transform=transform)\n",
    "trainloader = torch.utils.data.DataLoader(trainset, batch_size=BATCH_SIZE,\n",
    "                                          shuffle=True, num_workers=NUM_WORKERS)\n",
    "\n",
    "testset = torchvision.datasets.CIFAR10(root='./data', train=False,\n",
    "                                       download=True, transform=transform)\n",
    "testloader = torch.utils.data.DataLoader(testset, batch_size=BATCH_SIZE,\n",
    "                                         shuffle=False, num_workers=NUM_WORKERS)\n",
    "\n",
    "classes = ('plane', 'car', 'bird', 'cat',\n",
    "           'deer', 'dog', 'frog', 'horse', 'ship', 'truck')"
   ]
  },
  {
   "cell_type": "markdown",
   "metadata": {},
   "source": [
    "First, let's get to know the dataset. Plot a few examples of images and their labels:\n"
   ]
  },
  {
   "cell_type": "code",
   "execution_count": 3,
   "metadata": {
    "ExecuteTime": {
     "end_time": "2020-03-21T11:58:29.074958Z",
     "start_time": "2020-03-21T11:58:28.929237Z"
    }
   },
   "outputs": [
    {
     "name": "stdout",
     "output_type": "stream",
     "text": [
      "plane frog horse dog dog cat cat frog\n"
     ]
    },
    {
     "data": {
      "image/png": "[encoded data removed]",
      "text/plain": [
       "<Figure size 432x288 with 1 Axes>"
      ]
     },
     "metadata": {
      "needs_background": "light"
     },
     "output_type": "display_data"
    }
   ],
   "source": [
    "import matplotlib.pyplot as plt\n",
    "import numpy as np\n",
    "\n",
    "def imshow(img):\n",
    "    img = img * .5 + 0.5     # unnormalize\n",
    "    npimg = img.numpy()\n",
    "    plt.imshow(np.transpose(npimg, (1, 2, 0)))\n",
    "\n",
    "# get some random training images\n",
    "dataiter = iter(trainloader)\n",
    "images, labels = dataiter.next()\n",
    "\n",
    "# show images\n",
    "imshow(torchvision.utils.make_grid(images))\n",
    "# print labels\n",
    "print(' '.join(f'{classes[j]}' for j in labels))"
   ]
  },
  {
   "cell_type": "markdown",
   "metadata": {},
   "source": [
    "Display the distribution of images per label."
   ]
  },
  {
   "cell_type": "code",
   "execution_count": 4,
   "metadata": {
    "ExecuteTime": {
     "end_time": "2020-03-21T11:58:30.463454Z",
     "start_time": "2020-03-21T11:58:30.450379Z"
    }
   },
   "outputs": [
    {
     "name": "stdout",
     "output_type": "stream",
     "text": [
      "plane \t 5000\n",
      "car \t 5000\n",
      "bird \t 5000\n",
      "cat \t 5000\n",
      "deer \t 5000\n",
      "dog \t 5000\n",
      "frog \t 5000\n",
      "horse \t 5000\n",
      "ship \t 5000\n",
      "truck \t 5000\n"
     ]
    }
   ],
   "source": [
    "[print(f'{c} \\t {trainset.targets.count(j)}') for j, c in enumerate(classes)];"
   ]
  },
  {
   "cell_type": "markdown",
   "metadata": {},
   "source": [
    "Is the data balanced? What effect is imbalanced data expected to have on your model's results? How can you work with imbalanced data?"
   ]
  },
  {
   "cell_type": "markdown",
   "metadata": {},
   "source": [
    "The data is balanced in this case.  \n",
    "If the data were not balanced, we could overfit to the more frequent classes (to give an extreme example, if there were only two classes and one class is 90% of the samples, the network may learn to predict the more frequent class in all cases). To work with an imbalanced dataset we can: train using balanced batches (i.e. sample unequally from the data, to create balance during training), compensate for the unbalance by increasing the weight of misclassifications in the less frequent class, or augmenting the data to balance out the dataset (by subsampling from the the less freqent classes). Each method has its weakenesses of course, and different approachs can be tried and even combined."
   ]
  },
  {
   "cell_type": "markdown",
   "metadata": {},
   "source": [
    "**NOTE:** It's a good practice when working on Neural Networks to start with a very small dataset and overfit on it. While we don't specifically ask you to do so in the sections below, we recommend that you take this approach, and first write and run your code using easy to use and debug platform, on a small dataset."
   ]
  },
  {
   "cell_type": "markdown",
   "metadata": {},
   "source": [
    "## Build your own CNN classifier\n",
    "In this section, you will develop your own CNN classifier.\n",
    "\n",
    "This is meant as an opportunity to get more experience building your own NN architectures using PyTorch, and our focus is on making sure you rewrite and review the needed code and not on obtaining optimal performance. That being said, within the limits of the time you have, try to come up with a NN architecture and hyperparameters that would achieve nice results on the dataset.  \n",
    "We do recommend that you keep this to only 3-4 Conv layers and 1-2 fully connected layers."
   ]
  },
  {
   "cell_type": "markdown",
   "metadata": {},
   "source": [
    "If you want a starting point, you can create this network:\n",
    "\n",
    "```\n",
    "Net(\n",
    "  (conv1): Conv2d(3, 6, kernel_size=(5, 5), stride=(1, 1))\n",
    "  (pool): MaxPool2d(kernel_size=2, stride=2, padding=0, dilation=1, ceil_mode=False)\n",
    "  (conv2): Conv2d(6, 16, kernel_size=(5, 5), stride=(1, 1))\n",
    "  (fc1): Linear(in_features=400, out_features=120, bias=True)\n",
    "  (fc2): Linear(in_features=120, out_features=84, bias=True)\n",
    "  (fc3): Linear(in_features=84, out_features=10, bias=True)\n",
    ")\n",
    "```"
   ]
  },
  {
   "cell_type": "markdown",
   "metadata": {},
   "source": [
    "When training the network, use the Adam optimizer."
   ]
  },
  {
   "cell_type": "code",
   "execution_count": 5,
   "metadata": {},
   "outputs": [],
   "source": [
    "import torch.nn as nn\n",
    "import torch.nn.functional as F\n",
    "import torch.optim as optim\n",
    "\n",
    "\n",
    "device = \"cuda\" if torch.cuda.is_available() else \"cpu\"\n",
    "\n",
    "def initialize_net(cnn, lr=0.001, device='cpu', seed=42):\n",
    "    torch.manual_seed(seed)\n",
    "    if device == 'cuda':\n",
    "        torch.backends.cudnn.deterministic = True\n",
    "        torch.backends.cudnn.benchmark = False\n",
    "\n",
    "\n",
    "    net = cnn().to(device)\n",
    "    criterion = nn.CrossEntropyLoss()\n",
    "    optimizer = optim.Adam(net.parameters(), lr=lr)\n",
    "    \n",
    "    return net, criterion, optimizer\n"
   ]
  },
  {
   "cell_type": "code",
   "execution_count": 6,
   "metadata": {},
   "outputs": [],
   "source": [
    "class Net(nn.Module):\n",
    "    def __init__(self, \n",
    "                 out_conv1=32, \n",
    "                 out_conv2=64, \n",
    "                 out_conv3=128, \n",
    "                 out_fc1=256, \n",
    "                 out_fc2=128):\n",
    "        \n",
    "        super(Net, self).__init__()\n",
    "        \n",
    "        self.out_conv1 = out_conv1\n",
    "        self.out_conv2 = out_conv2\n",
    "        self.out_conv3 = out_conv3\n",
    "        \n",
    "        self.out_fc1 = out_fc1\n",
    "        self.out_fc2 = out_fc2\n",
    "        \n",
    "        \n",
    "        self.conv1 = nn.Conv2d(in_channels=3, \n",
    "                               out_channels=self.out_conv1, \n",
    "                               kernel_size=3, \n",
    "                               padding=1)\n",
    "        \n",
    "        self.conv2 = nn.Conv2d(in_channels=self.out_conv1, \n",
    "                               out_channels=self.out_conv2, \n",
    "                               kernel_size=3, \n",
    "                               padding=1)\n",
    "        \n",
    "        self.conv3 = nn.Conv2d(in_channels=self.out_conv2, \n",
    "                               out_channels=self.out_conv3, \n",
    "                               kernel_size=3, \n",
    "                               padding=1)\n",
    "        \n",
    "        self.fc1 = nn.Linear(in_features=self.out_conv3 * 4 * 4, \n",
    "                             out_features=self.out_fc1)  \n",
    "        # 4 = input_dimension / (pool_size ^ pooling_operations) = \n",
    "        # = 32 / 2 ^ 3 = 32 / 8 = 4\n",
    "        \n",
    "        self.fc2 = nn.Linear(in_features=self.out_fc1, \n",
    "                             out_features=self.out_fc2)\n",
    "        \n",
    "        self.fc3 = nn.Linear(in_features=self.out_fc2, \n",
    "                             out_features=10)\n",
    "        \n",
    "        self.pool = nn.MaxPool2d(2, 2)\n",
    "        self.relu = F.relu\n",
    "        \n",
    "        \n",
    "    def forward(self, x):\n",
    "        \n",
    "        self.activation = self.conv1(x)\n",
    "        out = self.pool(self.relu(self.activation))\n",
    "        out = self.pool(self.relu(self.conv2(out)))\n",
    "        out = self.pool(self.relu(self.conv3(out)))\n",
    "        \n",
    "        out = out.view(out.shape[0], -1)\n",
    "        \n",
    "        out = self.relu(self.fc1(out))\n",
    "        out = self.relu(self.fc2(out))\n",
    "        out = self.fc3(out)\n",
    "        \n",
    "        return out\n",
    "        "
   ]
  },
  {
   "cell_type": "markdown",
   "metadata": {},
   "source": [
    "As suggested, we'll first start with a small training set (and overfit it), to verify that everything works. "
   ]
  },
  {
   "cell_type": "code",
   "execution_count": 7,
   "metadata": {
    "ExecuteTime": {
     "end_time": "2020-03-21T11:58:57.615554Z",
     "start_time": "2020-03-21T11:58:57.591543Z"
    }
   },
   "outputs": [],
   "source": [
    "basic_net, criterion, optimizer = initialize_net(Net, device=device)\n",
    "\n",
    "dataiter = iter(testloader)\n",
    "n_batches = 25\n",
    "n_epochs = 40\n",
    "x, y = [], []\n",
    "\n",
    "for _ in range(n_batches):\n",
    "    images, labels = dataiter.next()\n",
    "    x.append(images)\n",
    "    y.append(labels)"
   ]
  },
  {
   "cell_type": "code",
   "execution_count": 8,
   "metadata": {
    "ExecuteTime": {
     "end_time": "2020-03-21T12:00:01.633811Z",
     "start_time": "2020-03-21T11:59:00.506225Z"
    }
   },
   "outputs": [
    {
     "name": "stdout",
     "output_type": "stream",
     "text": [
      "epoch: 1\t loss:2.305\n",
      "epoch: 2\t loss:2.198\n",
      "epoch: 3\t loss:2.059\n",
      "epoch: 4\t loss:1.979\n",
      "epoch: 5\t loss:1.908\n",
      "epoch: 6\t loss:1.877\n",
      "epoch: 7\t loss:1.845\n",
      "epoch: 8\t loss:1.711\n",
      "epoch: 9\t loss:1.529\n",
      "epoch: 10\t loss:1.361\n",
      "epoch: 11\t loss:1.192\n",
      "epoch: 12\t loss:1.051\n",
      "epoch: 13\t loss:0.913\n",
      "epoch: 14\t loss:0.693\n",
      "epoch: 15\t loss:0.665\n",
      "epoch: 16\t loss:0.620\n",
      "epoch: 17\t loss:0.526\n",
      "epoch: 18\t loss:0.365\n",
      "epoch: 19\t loss:0.338\n",
      "epoch: 20\t loss:0.208\n",
      "epoch: 21\t loss:0.169\n",
      "epoch: 22\t loss:0.078\n",
      "epoch: 23\t loss:0.036\n",
      "epoch: 24\t loss:0.029\n",
      "epoch: 25\t loss:0.019\n",
      "epoch: 26\t loss:0.006\n",
      "epoch: 27\t loss:0.003\n",
      "epoch: 28\t loss:0.002\n",
      "epoch: 29\t loss:0.002\n",
      "epoch: 30\t loss:0.001\n",
      "epoch: 31\t loss:0.001\n",
      "epoch: 32\t loss:0.001\n",
      "epoch: 33\t loss:0.001\n",
      "epoch: 34\t loss:0.001\n",
      "epoch: 35\t loss:0.001\n",
      "epoch: 36\t loss:0.001\n",
      "epoch: 37\t loss:0.000\n",
      "epoch: 38\t loss:0.000\n",
      "epoch: 39\t loss:0.000\n",
      "epoch: 40\t loss:0.000\n",
      "Finished Training\n"
     ]
    }
   ],
   "source": [
    "for epoch in range(n_epochs):  # loop over the dataset multiple times\n",
    "\n",
    "    running_loss = 0.\n",
    "    for i in range(n_batches):\n",
    "        # get the inputs; data is a list of [inputs, labels]\n",
    "        xi, yi = x[i].to(device), y[i].to(device)\n",
    "        # zero the parameter gradients\n",
    "        optimizer.zero_grad()\n",
    "\n",
    "        # forward + backward + optimize\n",
    "        outputs = basic_net(xi)\n",
    "        loss = criterion(outputs, yi)\n",
    "        loss.backward()\n",
    "        optimizer.step()\n",
    "\n",
    "        \n",
    "        running_loss += loss.item()\n",
    "    # print statistics\n",
    "    print(f'epoch: {epoch + 1}\\t loss:{running_loss / n_batches:.3f}')\n",
    "\n",
    "print('Finished Training')"
   ]
  },
  {
   "cell_type": "code",
   "execution_count": 9,
   "metadata": {
    "ExecuteTime": {
     "end_time": "2020-03-21T12:00:29.396399Z",
     "start_time": "2020-03-21T12:00:29.205738Z"
    }
   },
   "outputs": [
    {
     "name": "stdout",
     "output_type": "stream",
     "text": [
      "GroundTruth:  cat ship ship plane frog frog car frog\n",
      "Predicted:    cat ship ship plane frog frog car frog\n"
     ]
    },
    {
     "data": {
      "image/png": "[encoded data removed]",
      "text/plain": [
       "<Figure size 432x288 with 1 Axes>"
      ]
     },
     "metadata": {
      "needs_background": "light"
     },
     "output_type": "display_data"
    }
   ],
   "source": [
    "dataiter = iter(testloader)\n",
    "images, labels = dataiter.next()\n",
    "outputs = basic_net(images.to(device))\n",
    "_, predicted = torch.max(outputs, 1)\n",
    "\n",
    "# print images\n",
    "imshow(torchvision.utils.make_grid(images))\n",
    "print('GroundTruth: ', ' '.join(f'{classes[j]}' for j in labels))\n",
    "print('Predicted:   ', ' '.join(f'{classes[j]}' for j in predicted))"
   ]
  },
  {
   "cell_type": "code",
   "execution_count": 10,
   "metadata": {
    "ExecuteTime": {
     "end_time": "2020-03-21T12:00:42.392918Z",
     "start_time": "2020-03-21T12:00:40.612197Z"
    }
   },
   "outputs": [],
   "source": [
    "def evaluate_net(net):\n",
    "\n",
    "    class_correct = list(0. for i in range(10))\n",
    "    class_total = list(0. for i in range(10))\n",
    "\n",
    "    with torch.no_grad():\n",
    "        for data in testloader:\n",
    "            images, labels = data\n",
    "            outputs = net(images.to(device))\n",
    "            _, predicted = torch.max(outputs.data, 1)\n",
    "            c = (predicted == labels.to(device)).squeeze()\n",
    "\n",
    "            for i in range(BATCH_SIZE):\n",
    "                label = labels[i]\n",
    "                class_correct[label] += c[i].item()\n",
    "                class_total[label] += 1\n",
    "\n",
    "    [print(f'Accuracy of {c}: \\t {100 * class_correct[j] / class_total[j]}%') \n",
    "     for j, c in enumerate(classes)];\n",
    "\n",
    "    print('\\nAccuracy of the network on the 10000 test images:',  \n",
    "          f'{100 * np.sum(class_correct) / np.sum(class_total)}%')\n",
    "\n"
   ]
  },
  {
   "cell_type": "code",
   "execution_count": 11,
   "metadata": {},
   "outputs": [
    {
     "name": "stdout",
     "output_type": "stream",
     "text": [
      "Accuracy of plane: \t 35.9%\n",
      "Accuracy of car: \t 23.6%\n",
      "Accuracy of bird: \t 27.1%\n",
      "Accuracy of cat: \t 22.4%\n",
      "Accuracy of deer: \t 17.6%\n",
      "Accuracy of dog: \t 18.8%\n",
      "Accuracy of frog: \t 42.9%\n",
      "Accuracy of horse: \t 17.6%\n",
      "Accuracy of ship: \t 48.4%\n",
      "Accuracy of truck: \t 36.1%\n",
      "\n",
      "Accuracy of the network on the 10000 test images: 29.04%\n"
     ]
    }
   ],
   "source": [
    "evaluate_net(basic_net)"
   ]
  },
  {
   "cell_type": "markdown",
   "metadata": {},
   "source": [
    "As we can see, although there is poor accuracy on the test set, our basic network that was trained is able to overfit a small portion of the training set and the training loss is almost zero.\n",
    "\n",
    "Now we can proceed..  \n"
   ]
  },
  {
   "cell_type": "markdown",
   "metadata": {},
   "source": [
    "## Tensorboard\n",
    "TensorBoard provides visualization and tooling for machine learning experimentation:\n",
    "- Tracking and visualizing metrics such as loss and accuracy\n",
    "- Visualizing the model graph (ops and layers)\n",
    "- Viewing histograms of weights, biases, or other tensors as they change over time\n",
    "- Projecting embeddings to a lower dimensional space\n",
    "- Displaying images, text, and audio data\n",
    "- Profiling programs\n",
    "\n",
    "Tensorboard worked originally with Tensorflow but can now be used with PyTorch as well.  \n",
    "You can embed a tensorboard widget in a Jupyter Notebook, although if you're not using Google Colab we recommend that you open tensorboard separately."
   ]
  },
  {
   "cell_type": "markdown",
   "metadata": {},
   "source": [
    "To get started with Tensorboard, please read the following pages:\n",
    "\n",
    "PyTorch related:\n",
    "1. https://pytorch.org/tutorials/intermediate/tensorboard_tutorial.html\n",
    "1. https://becominghuman.ai/logging-in-tensorboard-with-pytorch-or-any-other-library-c549163dee9e\n",
    "1. https://towardsdatascience.com/https-medium-com-dinber19-take-a-deeper-look-at-your-pytorch-model-with-the-new-tensorboard-built-in-513969cf6a72\n",
    "1. https://pytorch.org/docs/stable/tensorboard.html\n",
    "1. https://github.com/yunjey/pytorch-tutorial/tree/master/tutorials/04-utils/tensorboard\n",
    "\n",
    "Tensorflow related:\n",
    "1. https://itnext.io/how-to-use-tensorboard-5d82f8654496\n",
    "1. https://www.datacamp.com/community/tutorials/tensorboard-tutorial\n",
    "1. https://medium.com/@anthony_sarkis/tensorboard-quick-start-in-5-minutes-e3ec69f673af\n",
    "1. https://www.guru99.com/tensorboard-tutorial.html\n",
    "1. https://www.youtube.com/watch?time_continue=1&v=s-lHP8v9qzY&feature=emb_logo\n",
    "1. https://www.youtube.com/watch?v=pSexXMdruFM\n"
   ]
  },
  {
   "cell_type": "markdown",
   "metadata": {},
   "source": [
    "### Starting Tensorboard\n",
    "Jupyter Notebook has extensions for displaying TensorBoard inside the notebook. Still, I recommend that you run it separately, as it tends to get stuck in notebooks.\n",
    "\n",
    "The syntax to load TensorBoard in a notebook is this:\n",
    "```python\n",
    "# Load the TensorBoard notebook extension\n",
    "%load_ext tensorboard\n",
    "%tensorboard --logdir ./logs\n",
    "```"
   ]
  },
  {
   "cell_type": "markdown",
   "metadata": {},
   "source": [
    "In the shell, you can instead run:\n",
    "```\n",
    "tensorboard --logdir ./logs\n",
    "```"
   ]
  },
  {
   "cell_type": "code",
   "execution_count": 13,
   "metadata": {
    "ExecuteTime": {
     "end_time": "2020-03-21T12:29:27.077382Z",
     "start_time": "2020-03-21T12:29:25.794435Z"
    }
   },
   "outputs": [],
   "source": [
    "from torch.utils.tensorboard import SummaryWriter\n",
    "\n",
    "writer_basic = SummaryWriter(f'./{LOG_DIR}/basic_net/')"
   ]
  },
  {
   "cell_type": "markdown",
   "metadata": {},
   "source": [
    "### Show images using TensorBoard"
   ]
  },
  {
   "cell_type": "code",
   "execution_count": 14,
   "metadata": {
    "ExecuteTime": {
     "end_time": "2020-03-21T12:29:29.166875Z",
     "start_time": "2020-03-21T12:29:28.979845Z"
    }
   },
   "outputs": [
    {
     "data": {
      "image/png": "[encoded data removed]",
      "text/plain": [
       "<Figure size 1080x864 with 1 Axes>"
      ]
     },
     "metadata": {
      "needs_background": "light"
     },
     "output_type": "display_data"
    }
   ],
   "source": [
    "# get some random training images\n",
    "dataiter = iter(trainloader)\n",
    "images, labels = dataiter.next()\n",
    "\n",
    "# create grid of images\n",
    "img_grid = torchvision.utils.make_grid(images)\n",
    "fig = plt.figure(figsize=(15, 12))\n",
    "# show images\n",
    "imshow(img_grid)\n",
    "\n",
    "# write to tensorboard\n",
    "writer_basic.add_image('example_images', img_grid)\n",
    "writer_basic.flush()"
   ]
  },
  {
   "cell_type": "markdown",
   "metadata": {},
   "source": [
    "### TensorBoard ScreenShot\n",
    "<div>\n",
    "    <img src='./screenshots/example_images.png'/>\n",
    "<div/>\n",
    "    \n",
    "We haven’t figured out yet why our sample images are distorted when uploaded to tensorboard.  \n",
    "Any hints?"
   ]
  },
  {
   "cell_type": "markdown",
   "metadata": {},
   "source": [
    "Running the following command from the relevant directory in the command line will open Tensorboard at  localhost:6006:\n",
    "```\n",
    "tensorboard --logdir=runs\n",
    "```\n",
    "And the images will be displayed there."
   ]
  },
  {
   "cell_type": "markdown",
   "metadata": {},
   "source": [
    "### Inspect the model graph\n",
    "You can print a network object to find useful information about it:"
   ]
  },
  {
   "cell_type": "code",
   "execution_count": 15,
   "metadata": {
    "ExecuteTime": {
     "end_time": "2020-03-21T12:29:50.848029Z",
     "start_time": "2020-03-21T12:29:50.845180Z"
    }
   },
   "outputs": [
    {
     "name": "stdout",
     "output_type": "stream",
     "text": [
      "Net(\n",
      "  (conv1): Conv2d(3, 32, kernel_size=(3, 3), stride=(1, 1), padding=(1, 1))\n",
      "  (conv2): Conv2d(32, 64, kernel_size=(3, 3), stride=(1, 1), padding=(1, 1))\n",
      "  (conv3): Conv2d(64, 128, kernel_size=(3, 3), stride=(1, 1), padding=(1, 1))\n",
      "  (fc1): Linear(in_features=2048, out_features=256, bias=True)\n",
      "  (fc2): Linear(in_features=256, out_features=128, bias=True)\n",
      "  (fc3): Linear(in_features=128, out_features=10, bias=True)\n",
      "  (pool): MaxPool2d(kernel_size=2, stride=2, padding=0, dilation=1, ceil_mode=False)\n",
      ")\n"
     ]
    }
   ],
   "source": [
    "print(basic_net)"
   ]
  },
  {
   "cell_type": "markdown",
   "metadata": {},
   "source": [
    "TensorBoard can help visualize the network graph. It takes practice to read these.  \n",
    "\n",
    "Write the graph to TensorBoard and review it."
   ]
  },
  {
   "cell_type": "code",
   "execution_count": 16,
   "metadata": {
    "ExecuteTime": {
     "end_time": "2020-03-21T12:30:18.448847Z",
     "start_time": "2020-03-21T12:30:18.214752Z"
    }
   },
   "outputs": [],
   "source": [
    "writer_basic.add_graph(basic_net, images.to(device))\n",
    "writer_basic.flush()\n",
    "writer_basic.close()"
   ]
  },
  {
   "cell_type": "markdown",
   "metadata": {},
   "source": [
    "### TensorBoard Graph\n",
    "\n",
    "<div>\n",
    "    <img src='./screenshots/network_graph.png'/>\n",
    "<div/>"
   ]
  },
  {
   "cell_type": "markdown",
   "metadata": {},
   "source": [
    "You can also use the package `torchsummary` for a fuller info on the model:"
   ]
  },
  {
   "cell_type": "code",
   "execution_count": 16,
   "metadata": {
    "ExecuteTime": {
     "end_time": "2020-03-21T12:30:20.575047Z",
     "start_time": "2020-03-21T12:30:20.572959Z"
    }
   },
   "outputs": [],
   "source": [
    "# !pip install torchsummary"
   ]
  },
  {
   "cell_type": "code",
   "execution_count": 17,
   "metadata": {
    "ExecuteTime": {
     "end_time": "2020-03-21T12:30:23.138797Z",
     "start_time": "2020-03-21T12:30:23.128309Z"
    }
   },
   "outputs": [
    {
     "name": "stdout",
     "output_type": "stream",
     "text": [
      "----------------------------------------------------------------\n",
      "        Layer (type)               Output Shape         Param #\n",
      "================================================================\n",
      "            Conv2d-1           [-1, 32, 32, 32]             896\n",
      "         MaxPool2d-2           [-1, 32, 16, 16]               0\n",
      "            Conv2d-3           [-1, 64, 16, 16]          18,496\n",
      "         MaxPool2d-4             [-1, 64, 8, 8]               0\n",
      "            Conv2d-5            [-1, 128, 8, 8]          73,856\n",
      "         MaxPool2d-6            [-1, 128, 4, 4]               0\n",
      "            Linear-7                  [-1, 256]         524,544\n",
      "            Linear-8                  [-1, 128]          32,896\n",
      "            Linear-9                   [-1, 10]           1,290\n",
      "================================================================\n",
      "Total params: 651,978\n",
      "Trainable params: 651,978\n",
      "Non-trainable params: 0\n",
      "----------------------------------------------------------------\n",
      "Input size (MB): 0.01\n",
      "Forward/backward pass size (MB): 0.55\n",
      "Params size (MB): 2.49\n",
      "Estimated Total Size (MB): 3.05\n",
      "----------------------------------------------------------------\n"
     ]
    }
   ],
   "source": [
    "channels=3; H=32; W=32\n",
    "from torchsummary import summary\n",
    "summary(basic_net, input_size=(channels, H, W))"
   ]
  },
  {
   "cell_type": "markdown",
   "metadata": {},
   "source": [
    "## Train the network\n",
    "Next, we'll train the network. In the training loop, log relevant metrics that would allow you to plot in TensorBoard:"
   ]
  },
  {
   "cell_type": "markdown",
   "metadata": {},
   "source": [
    "1. The network loss\n",
    "1. Train and test error\n",
    "1. Average weight in the first layer\n",
    "1. Histogram of weights in the first layer"
   ]
  },
  {
   "cell_type": "code",
   "execution_count": 18,
   "metadata": {
    "ExecuteTime": {
     "end_time": "2020-03-21T13:08:28.263739Z",
     "start_time": "2020-03-21T13:05:46.814530Z"
    }
   },
   "outputs": [],
   "source": [
    "def train_nn(net, crit, opt, writer, n_epochs=8, every_n_iter=1000, return_activation=True, loder=trainloader):\n",
    "    step = 0\n",
    "\n",
    "    for epoch in range(n_epochs):  # loop over the dataset multiple times\n",
    "\n",
    "        running_loss = 0.0\n",
    "        running_accuracy = 0.0\n",
    "        running_avg_weights = 0.0\n",
    "\n",
    "        for i, train_data in enumerate(loder):\n",
    "            inputs, labels = train_data[0].to(device), train_data[1].to(device) \n",
    "\n",
    "            optimizer.zero_grad()\n",
    "\n",
    "            # forward + backward + optimize\n",
    "            outputs = net(inputs)\n",
    "#             if return_activation:\n",
    "#                 outputs, activation = outputs\n",
    "            loss = criterion(outputs, labels)\n",
    "            loss.backward()\n",
    "            optimizer.step()\n",
    "\n",
    "            # Compute accuracy\n",
    "            _, predictions = torch.max(outputs, 1)\n",
    "            accuracy = (labels == predictions.squeeze()).float().mean()\n",
    "\n",
    "            running_accuracy += accuracy.item()\n",
    "            running_loss += loss.item()\n",
    "            running_avg_weights += torch.mean(net.conv1.weight.data)\n",
    "\n",
    "\n",
    "            if (i % every_n_iter) == (every_n_iter - 1):    # every 2000 mini-batches...\n",
    "                print(f'epoch: {epoch + 1}\\t iter: {i + 1}\\t loss:{running_loss / every_n_iter:.5f}')\n",
    "                #calculate the test error\n",
    "                running_test_accuracy = 0.0\n",
    "\n",
    "                net.eval()\n",
    "\n",
    "                with torch.no_grad():\n",
    "                    for test_data in testloader:\n",
    "                        test_images, test_labels = test_data[0].to(device), test_data[1].to(device) \n",
    "                        test_outputs = net(test_images)\n",
    "                        _, test_pred = torch.max(test_outputs, 1)\n",
    "                        test_accuracy = (test_labels == test_pred.squeeze()).float().mean()\n",
    "                        running_test_accuracy += test_accuracy.item()\n",
    "\n",
    "                net.train()\n",
    "\n",
    "                # ...log the running loss\n",
    "                writer.add_scalar('loss/training',\n",
    "                                  running_loss / every_n_iter,\n",
    "                                  epoch * len(trainloader) + i)\n",
    "\n",
    "                # ...log the running accuracy\n",
    "                writer.add_scalar('error/training',\n",
    "                                  1 - (running_accuracy / every_n_iter),\n",
    "                                  epoch * len(trainloader) + i)\n",
    "\n",
    "                # ...log the running test accuracy\n",
    "                writer.add_scalar('error/test',\n",
    "                                  1 - (running_test_accuracy / len(testloader)),\n",
    "                                  epoch * len(trainloader) + i)\n",
    "\n",
    "                # ...log the running average weights in layer 1\n",
    "                writer.add_scalar('Average weights in layer 1',\n",
    "                                  running_avg_weights / every_n_iter,\n",
    "                                  epoch * len(trainloader) + i)\n",
    "\n",
    "                # ...log the histogram of the weights in layer 1\n",
    "                writer.add_histogram('Layer 1 weights', \n",
    "                                     net.conv1.weight.data, \n",
    "                                     step, bins='auto')\n",
    "\n",
    "                if return_activation:\n",
    "                    writer.add_histogram('Layer 1 activations', \n",
    "                                         net.activation.detach().to('cpu').numpy(), \n",
    "                                         step, bins='auto')\n",
    "\n",
    "\n",
    "                step += 1\n",
    "                running_loss = 0.0\n",
    "                running_accuracy = 0.0\n",
    "                running_avg_weights = 0.0\n",
    "\n",
    "    print('Finished Training')\n",
    "\n",
    "    writer.flush()\n",
    "    writer.close()\n"
   ]
  },
  {
   "cell_type": "code",
   "execution_count": 19,
   "metadata": {},
   "outputs": [
    {
     "name": "stdout",
     "output_type": "stream",
     "text": [
      "epoch: 1\t iter: 1000\t loss:1.84938\n",
      "epoch: 1\t iter: 2000\t loss:1.48573\n",
      "epoch: 1\t iter: 3000\t loss:1.33485\n",
      "epoch: 1\t iter: 4000\t loss:1.23905\n",
      "epoch: 1\t iter: 5000\t loss:1.13990\n",
      "epoch: 1\t iter: 6000\t loss:1.05757\n",
      "epoch: 2\t iter: 1000\t loss:0.95971\n",
      "epoch: 2\t iter: 2000\t loss:0.95023\n",
      "epoch: 2\t iter: 3000\t loss:0.96776\n",
      "epoch: 2\t iter: 4000\t loss:0.90382\n",
      "epoch: 2\t iter: 5000\t loss:0.90145\n",
      "epoch: 2\t iter: 6000\t loss:0.88631\n",
      "epoch: 3\t iter: 1000\t loss:0.75949\n",
      "epoch: 3\t iter: 2000\t loss:0.76080\n",
      "epoch: 3\t iter: 3000\t loss:0.77311\n",
      "epoch: 3\t iter: 4000\t loss:0.77052\n",
      "epoch: 3\t iter: 5000\t loss:0.77547\n",
      "epoch: 3\t iter: 6000\t loss:0.77601\n",
      "epoch: 4\t iter: 1000\t loss:0.64559\n",
      "epoch: 4\t iter: 2000\t loss:0.65068\n",
      "epoch: 4\t iter: 3000\t loss:0.65609\n",
      "epoch: 4\t iter: 4000\t loss:0.68298\n",
      "epoch: 4\t iter: 5000\t loss:0.66254\n",
      "epoch: 4\t iter: 6000\t loss:0.69853\n",
      "epoch: 5\t iter: 1000\t loss:0.56214\n",
      "epoch: 5\t iter: 2000\t loss:0.56921\n",
      "epoch: 5\t iter: 3000\t loss:0.59254\n",
      "epoch: 5\t iter: 4000\t loss:0.60041\n",
      "epoch: 5\t iter: 5000\t loss:0.59303\n",
      "epoch: 5\t iter: 6000\t loss:0.62191\n",
      "epoch: 6\t iter: 1000\t loss:0.47482\n",
      "epoch: 6\t iter: 2000\t loss:0.50816\n",
      "epoch: 6\t iter: 3000\t loss:0.51531\n",
      "epoch: 6\t iter: 4000\t loss:0.54211\n",
      "epoch: 6\t iter: 5000\t loss:0.53682\n",
      "epoch: 6\t iter: 6000\t loss:0.54343\n",
      "epoch: 7\t iter: 1000\t loss:0.42761\n",
      "epoch: 7\t iter: 2000\t loss:0.45245\n",
      "epoch: 7\t iter: 3000\t loss:0.45980\n",
      "epoch: 7\t iter: 4000\t loss:0.47538\n",
      "epoch: 7\t iter: 5000\t loss:0.49222\n",
      "epoch: 7\t iter: 6000\t loss:0.49773\n",
      "epoch: 8\t iter: 1000\t loss:0.36771\n",
      "epoch: 8\t iter: 2000\t loss:0.40621\n",
      "epoch: 8\t iter: 3000\t loss:0.42133\n",
      "epoch: 8\t iter: 4000\t loss:0.41982\n",
      "epoch: 8\t iter: 5000\t loss:0.43617\n",
      "epoch: 8\t iter: 6000\t loss:0.45292\n",
      "Finished Training\n",
      "\n",
      "Accuracy of plane: \t 74.1%\n",
      "Accuracy of car: \t 80.6%\n",
      "Accuracy of bird: \t 58.5%\n",
      "Accuracy of cat: \t 50.9%\n",
      "Accuracy of deer: \t 70.9%\n",
      "Accuracy of dog: \t 70.0%\n",
      "Accuracy of frog: \t 81.7%\n",
      "Accuracy of horse: \t 75.3%\n",
      "Accuracy of ship: \t 75.7%\n",
      "Accuracy of truck: \t 85.0%\n",
      "\n",
      "Accuracy of the network on the 10000 test images: 72.27%\n"
     ]
    }
   ],
   "source": [
    "writer_main = SummaryWriter(f'./{LOG_DIR}/main_net/') \n",
    "main_net, criterion, optimizer = initialize_net(Net, device=device)\n",
    "writer_main.add_graph(main_net, images.to(device))\n",
    "train_nn(main_net, criterion, optimizer, writer_main)\n",
    "print()\n",
    "evaluate_net(main_net)"
   ]
  },
  {
   "cell_type": "markdown",
   "metadata": {},
   "source": [
    "#### 1. The network loss\n",
    "<div>\n",
    "<img src='./screenshots/loss_main.png' width=250/>\n",
    "</div>\n",
    "\n",
    "#### 2. Test and training error\n",
    "<div>\n",
    "<img src='./screenshots/errors_main.png'width=500/>\n",
    "</div>\n",
    "\n",
    "#### 3&4. Average weight & Histogram of weights in the first layer\n",
    "<div>\n",
    "<img src='./screenshots/mean_W_L1.png' width=250/>\n",
    "<img src='./screenshots/W_hist.png' width=250/>\n",
    "</div>"
   ]
  },
  {
   "cell_type": "markdown",
   "metadata": {},
   "source": [
    "### Precision-Recall Curve\n",
    "Use TensorBoard to plot the precision-recall curve:"
   ]
  },
  {
   "cell_type": "code",
   "execution_count": 20,
   "metadata": {},
   "outputs": [],
   "source": [
    "def add_pr_curve_tensorboard(writer, class_index, test_probs, test_preds, global_step=0):\n",
    "    '''\n",
    "    Takes in a \"class_index\" from 0 to 9 and plots the corresponding\n",
    "    precision-recall curve\n",
    "    '''\n",
    "    tensorboard_preds = test_preds == class_index\n",
    "    tensorboard_probs = test_probs[:, class_index]\n",
    "    \n",
    "    writer.add_pr_curve(classes[class_index],\n",
    "                        tensorboard_preds,\n",
    "                        tensorboard_probs,\n",
    "                        global_step=global_step)\n",
    "    writer.close()\n",
    "\n",
    "main_net.eval()\n",
    "\n",
    "class_probs = []\n",
    "class_preds = []\n",
    "with torch.no_grad():\n",
    "    for images, _ in testloader:\n",
    "\n",
    "        output = main_net(images.to(device))\n",
    "        class_probs_batch = [F.softmax(el, dim=0) for el in output]\n",
    "        _, class_preds_batch = torch.max(output, 1)\n",
    "\n",
    "        class_probs.append(class_probs_batch)\n",
    "        class_preds.append(class_preds_batch)\n",
    "\n",
    "test_probs = torch.cat([torch.stack(batch) for batch in class_probs])\n",
    "test_preds = torch.cat(class_preds)\n",
    "\n",
    "# plot all the pr curves\n",
    "for i in range(len(classes)):\n",
    "    add_pr_curve_tensorboard(writer_main, i, test_probs, test_preds)"
   ]
  },
  {
   "cell_type": "markdown",
   "metadata": {},
   "source": [
    "<div>\n",
    "    <img src='./screenshots/pr_bird.png' width=\"300\"/>\n",
    "    <img src='./screenshots/pr_car.png' width=\"300\"/>\n",
    "</div>\n",
    "<div>\n",
    "    <img src='./screenshots/pr_cat.png' width=\"300\"/>\n",
    "    <img src='./screenshots/pr_deer.png' width=\"300\"/>\n",
    "</div>\n",
    "<div>\n",
    "    <img src='./screenshots/pr_dog.png' width=\"300\"/>\n",
    "    <img src='./screenshots/pr_frog.png' width=\"300\"/>\n",
    "</div> \n",
    "<div>\n",
    "    <img src='./screenshots/pr_horse.png' width=\"300\"/>\n",
    "    <img src='./screenshots/pr_plane.png' width=\"300\"/>\n",
    "</div> \n",
    "<div>\n",
    "    <img src='./screenshots/pr_ship.png' width=\"300\"/>\n",
    "    <img src='./screenshots/pr_truck.png' width=\"300\"/>\n",
    "</div>\n"
   ]
  },
  {
   "cell_type": "markdown",
   "metadata": {},
   "source": [
    "### Display Model Errors\n",
    "A valuable practice is to review errors made by the model in the test set. These might reveal cases of bad preprocessing or lead to come up with improvements to your original model.\n",
    "\n",
    "Show 12 images of errors made by the model. For each, display the true and predicted classes, and the model confidence in its answer."
   ]
  },
  {
   "cell_type": "code",
   "execution_count": 21,
   "metadata": {},
   "outputs": [],
   "source": [
    "def plot_classes_preds(images, labels, preds, probs, rows=3, cols=4):\n",
    "    '''\n",
    "    Generates matplotlib Figure of images and labels from a batch, \n",
    "    that shows the network's top prediction along with its probability, \n",
    "    alongside the actual label, coloring this information based on whether \n",
    "    the prediction was correct or not.\n",
    "    '''\n",
    "    # plot the images in the batch, along with predicted and true labels\n",
    "#     print(type(classes))\n",
    "    fig = plt.figure(figsize=(15, 12))\n",
    "    for idx, img in enumerate(images):\n",
    "        ax = fig.add_subplot(rows, cols, idx+1, xticks=[], yticks=[])\n",
    "        \n",
    "        imshow(transform(img))\n",
    "        \n",
    "        ax.set_title(f\"prediction: {classes[preds[idx]]}\\n\" + \n",
    "                     f\"confidence: {probs[idx,preds[idx]] * 100:.1f}%\\n\" +\n",
    "                     f\"true label: {classes[labels[idx]]}\", \n",
    "                     color=(\"green\" if preds[idx]==labels[idx] else \"red\"), \n",
    "                     fontsize=20)\n",
    "    fig.tight_layout()\n",
    "    \n",
    "    return fig\n",
    "\n",
    "\n",
    "n = 12\n",
    "\n",
    "mask_mistakes = np.argwhere(np.array(test_preds.tolist())!=np.array(testset.targets))\n",
    "mask_mistakes = mask_mistakes[:n].flatten()\n",
    "\n",
    "inputs = testset.data[mask_mistakes]\n",
    "labels = np.array(testset.targets)[mask_mistakes]\n",
    "probs = test_probs[mask_mistakes, :]\n",
    "preds = test_preds[mask_mistakes]\n",
    "\n",
    "fig = plot_classes_preds(inputs, labels, preds, probs)\n",
    "writer_main.add_figure('predictions vs. actuals', fig)\n",
    "writer_main.flush()"
   ]
  },
  {
   "cell_type": "markdown",
   "metadata": {},
   "source": [
    "#### Model Errors\n",
    "<div>\n",
    "    <img src='./screenshots/model_errors.png'/>\n",
    "<div/>"
   ]
  },
  {
   "cell_type": "markdown",
   "metadata": {},
   "source": [
    "## Batch Normalization\n",
    "In this section, we'll add a Batch Norm layer to your network.  \n",
    "Use TensorBoard to compare the network's convergence (train and validation loss) with and without Batch Normalization.\n"
   ]
  },
  {
   "cell_type": "code",
   "execution_count": 22,
   "metadata": {
    "ExecuteTime": {
     "end_time": "2020-03-12T02:02:02.225508Z",
     "start_time": "2020-03-12T02:02:02.204005Z"
    }
   },
   "outputs": [],
   "source": [
    "import torch.nn as nn\n",
    "import torch.nn.functional as F\n",
    "import torch.optim as optim\n",
    "\n",
    "class BatchNormNet(nn.Module):\n",
    "    def __init__(self, \n",
    "                 out_conv1=32, \n",
    "                 out_conv2=64, \n",
    "                 out_conv3=128, \n",
    "                 out_fc1=256, \n",
    "                 out_fc2=128):\n",
    "        \n",
    "        super(BatchNormNet, self).__init__()\n",
    "        \n",
    "        self.out_conv1 = out_conv1\n",
    "        self.out_conv2 = out_conv2\n",
    "        self.out_conv3 = out_conv3\n",
    "        \n",
    "        self.out_fc1 = out_fc1\n",
    "        self.out_fc2 = out_fc2\n",
    "        \n",
    "        \n",
    "        self.conv1 = nn.Conv2d(in_channels=3, \n",
    "                               out_channels=self.out_conv1, \n",
    "                               kernel_size=3, \n",
    "                               padding=1)\n",
    "        \n",
    "        self.conv1_bn = nn.BatchNorm2d(self.out_conv1)\n",
    "        \n",
    "        self.conv2 = nn.Conv2d(in_channels=self.out_conv1, \n",
    "                               out_channels=self.out_conv2, \n",
    "                               kernel_size=3, \n",
    "                               padding=1)\n",
    "        \n",
    "        self.conv2_bn = nn.BatchNorm2d(self.out_conv2)\n",
    "        \n",
    "        self.conv3 = nn.Conv2d(in_channels=self.out_conv2, \n",
    "                               out_channels=self.out_conv3, \n",
    "                               kernel_size=3, \n",
    "                               padding=1)\n",
    "        \n",
    "        self.conv3_bn = nn.BatchNorm2d(self.out_conv3)\n",
    "        \n",
    "        self.fc1 = nn.Linear(in_features=self.out_conv3 * 4 * 4, \n",
    "                             out_features=self.out_fc1)  \n",
    "        # 4 = input_dimension / (pool_size ^ pooling_operations) = \n",
    "        # = 32 / 2 ^ 3 = 32 / 8 = 4\n",
    "        \n",
    "        self.fc1_bn = nn.BatchNorm1d(self.out_fc1)\n",
    "        \n",
    "        self.fc2 = nn.Linear(in_features=self.out_fc1, \n",
    "                             out_features=self.out_fc2)\n",
    "        \n",
    "        self.fc2_bn = nn.BatchNorm1d(self.out_fc2)\n",
    "        \n",
    "        self.fc3 = nn.Linear(in_features=self.out_fc2, \n",
    "                             out_features=10)\n",
    "        \n",
    "        self.pool = nn.MaxPool2d(2, 2)\n",
    "        self.relu = F.relu\n",
    "        \n",
    "        \n",
    "    def forward(self, x):\n",
    "        \n",
    "        self.activation = self.conv1_bn(self.conv1(x))\n",
    "        out = self.pool(self.relu(self.activation))\n",
    "        out = self.pool(self.relu(self.conv2_bn(self.conv2(out))))\n",
    "        out = self.pool(self.relu(self.conv3_bn(self.conv3(out))))\n",
    "        \n",
    "        out = out.view(out.shape[0], -1)\n",
    "\n",
    "        out = self.relu(self.fc1_bn(self.fc1(out)))\n",
    "        out = self.relu(self.fc2_bn(self.fc2(out)))\n",
    "        out = self.fc3(out)\n",
    "        \n",
    "        return out\n",
    "        "
   ]
  },
  {
   "cell_type": "code",
   "execution_count": 23,
   "metadata": {},
   "outputs": [
    {
     "name": "stdout",
     "output_type": "stream",
     "text": [
      "epoch: 1\t iter: 1000\t loss:1.69159\n",
      "epoch: 1\t iter: 2000\t loss:1.42955\n",
      "epoch: 1\t iter: 3000\t loss:1.28736\n",
      "epoch: 1\t iter: 4000\t loss:1.23197\n",
      "epoch: 1\t iter: 5000\t loss:1.14333\n",
      "epoch: 1\t iter: 6000\t loss:1.10202\n",
      "epoch: 2\t iter: 1000\t loss:1.02017\n",
      "epoch: 2\t iter: 2000\t loss:1.00259\n",
      "epoch: 2\t iter: 3000\t loss:1.00765\n",
      "epoch: 2\t iter: 4000\t loss:0.95188\n",
      "epoch: 2\t iter: 5000\t loss:0.93637\n",
      "epoch: 2\t iter: 6000\t loss:0.93623\n",
      "epoch: 3\t iter: 1000\t loss:0.84908\n",
      "epoch: 3\t iter: 2000\t loss:0.84845\n",
      "epoch: 3\t iter: 3000\t loss:0.83125\n",
      "epoch: 3\t iter: 4000\t loss:0.82862\n",
      "epoch: 3\t iter: 5000\t loss:0.83867\n",
      "epoch: 3\t iter: 6000\t loss:0.82649\n",
      "epoch: 4\t iter: 1000\t loss:0.73382\n",
      "epoch: 4\t iter: 2000\t loss:0.70073\n",
      "epoch: 4\t iter: 3000\t loss:0.73130\n",
      "epoch: 4\t iter: 4000\t loss:0.72122\n",
      "epoch: 4\t iter: 5000\t loss:0.71101\n",
      "epoch: 4\t iter: 6000\t loss:0.73817\n",
      "epoch: 5\t iter: 1000\t loss:0.64156\n",
      "epoch: 5\t iter: 2000\t loss:0.62665\n",
      "epoch: 5\t iter: 3000\t loss:0.64489\n",
      "epoch: 5\t iter: 4000\t loss:0.64753\n",
      "epoch: 5\t iter: 5000\t loss:0.64618\n",
      "epoch: 5\t iter: 6000\t loss:0.66657\n",
      "epoch: 6\t iter: 1000\t loss:0.56557\n",
      "epoch: 6\t iter: 2000\t loss:0.55929\n",
      "epoch: 6\t iter: 3000\t loss:0.57494\n",
      "epoch: 6\t iter: 4000\t loss:0.61538\n",
      "epoch: 6\t iter: 5000\t loss:0.59166\n",
      "epoch: 6\t iter: 6000\t loss:0.60066\n",
      "epoch: 7\t iter: 1000\t loss:0.50703\n",
      "epoch: 7\t iter: 2000\t loss:0.50939\n",
      "epoch: 7\t iter: 3000\t loss:0.51111\n",
      "epoch: 7\t iter: 4000\t loss:0.55722\n",
      "epoch: 7\t iter: 5000\t loss:0.53181\n",
      "epoch: 7\t iter: 6000\t loss:0.54018\n",
      "epoch: 8\t iter: 1000\t loss:0.45900\n",
      "epoch: 8\t iter: 2000\t loss:0.48216\n",
      "epoch: 8\t iter: 3000\t loss:0.47417\n",
      "epoch: 8\t iter: 4000\t loss:0.49698\n",
      "epoch: 8\t iter: 5000\t loss:0.46999\n",
      "epoch: 8\t iter: 6000\t loss:0.49526\n",
      "Finished Training\n",
      "\n",
      "Accuracy of plane: \t 75.4%\n",
      "Accuracy of car: \t 86.2%\n",
      "Accuracy of bird: \t 67.9%\n",
      "Accuracy of cat: \t 55.6%\n",
      "Accuracy of deer: \t 67.8%\n",
      "Accuracy of dog: \t 60.5%\n",
      "Accuracy of frog: \t 85.0%\n",
      "Accuracy of horse: \t 79.5%\n",
      "Accuracy of ship: \t 82.2%\n",
      "Accuracy of truck: \t 85.4%\n",
      "\n",
      "Accuracy of the network on the 10000 test images: 74.55%\n"
     ]
    }
   ],
   "source": [
    "writer_bn = SummaryWriter(f'./{LOG_DIR}/batchNorm/') \n",
    "net_bn, criterion, optimizer = initialize_net(BatchNormNet, device=device)\n",
    "writer_bn.add_graph(net_bn, images.to(device))\n",
    "train_nn(net_bn, criterion, optimizer, writer_bn)\n",
    "print()\n",
    "evaluate_net(net_bn)"
   ]
  },
  {
   "cell_type": "markdown",
   "metadata": {},
   "source": [
    "Use TensorBoard to plot the distribution of activations with and without Batch Normalization."
   ]
  },
  {
   "cell_type": "markdown",
   "metadata": {},
   "source": [
    "#### Activations\n",
    "<div>\n",
    "    <img src='./screenshots/L1_activations.png' width=500/>\n",
    "<div/>\n",
    "As expected, the input of the first activation layer is centered and normalized  \n",
    "\n",
    "#### Loss & Errors\n",
    "<div>\n",
    "    <img src='./screenshots/train_losses_main_vs_bn.png' width=250/>\n",
    "<div/>\n",
    "<div>\n",
    "    <img src='./screenshots/errors_main_vs_bn.png' width=500/>\n",
    "<div/>\n",
    "\n",
    "The loss and train error of the model with the batch_norm layers (in red) is slightly worse than the loss and error of the model without the batch_norm (blue). The test error however, is in the opposite direction. This suggest that Batch_norm can help reduce over fitting and enhance performance of convolutional neural network."
   ]
  },
  {
   "cell_type": "markdown",
   "metadata": {},
   "source": [
    "## Data Augmentation\n",
    "Augmenting the data is a useful trick to increase the size of the training set and reduce the generalization error.  \n",
    "\n",
    "Useful resources: \n",
    "- [Explanation about augmentation](https://www.analyticsvidhya.com/blog/2019/12/image-augmentation-deep-learning-pytorch/)\n",
    "- The [torchvision transforms documentation](https://pytorch.org/docs/stable/torchvision/transforms.html)\n",
    "- The [albumentations](https://github.com/albumentations-team/albumentations) repo"
   ]
  },
  {
   "cell_type": "markdown",
   "metadata": {},
   "source": [
    "Try to think which transformation can be useful for data augmentation for our task?"
   ]
  },
  {
   "cell_type": "markdown",
   "metadata": {},
   "source": [
    "Since out data contains mostly centered, naturalistic images, some of the most useful transformation may be introducing horizontal flips, adding noise or blurring images, as well as image rotation, shearing scaling and shifting."
   ]
  },
  {
   "cell_type": "markdown",
   "metadata": {},
   "source": [
    "Apply 1 or 2 basic transformations and check how they affect the network's performance:"
   ]
  },
  {
   "cell_type": "code",
   "execution_count": 35,
   "metadata": {},
   "outputs": [
    {
     "name": "stdout",
     "output_type": "stream",
     "text": [
      "Files already downloaded and verified\n"
     ]
    }
   ],
   "source": [
    "transform_aug = transforms.Compose(\n",
    "    [transforms.RandomHorizontalFlip(),\n",
    "     transforms.RandomRotation(20),\n",
    "     transforms.ToTensor(),\n",
    "     transforms.Normalize((0.5, 0.5, 0.5), (0.5, 0.5, 0.5))])\n",
    "\n",
    "trainset_aug = torchvision.datasets.CIFAR10(root='./data', train=True,\n",
    "                                            download=True, transform=transform_aug)\n",
    "\n",
    "trainloader_aug = torch.utils.data.DataLoader(trainset_aug, batch_size=BATCH_SIZE,\n",
    "                                              shuffle=True, num_workers=2)"
   ]
  },
  {
   "cell_type": "code",
   "execution_count": 25,
   "metadata": {},
   "outputs": [
    {
     "name": "stdout",
     "output_type": "stream",
     "text": [
      "epoch: 1\t iter: 1000\t loss:1.90637\n",
      "epoch: 1\t iter: 2000\t loss:1.58399\n",
      "epoch: 1\t iter: 3000\t loss:1.45595\n",
      "epoch: 1\t iter: 4000\t loss:1.39155\n",
      "epoch: 1\t iter: 5000\t loss:1.31703\n",
      "epoch: 1\t iter: 6000\t loss:1.26596\n",
      "epoch: 2\t iter: 1000\t loss:1.19910\n",
      "epoch: 2\t iter: 2000\t loss:1.16480\n",
      "epoch: 2\t iter: 3000\t loss:1.17786\n",
      "epoch: 2\t iter: 4000\t loss:1.11994\n",
      "epoch: 2\t iter: 5000\t loss:1.10850\n",
      "epoch: 2\t iter: 6000\t loss:1.08944\n",
      "epoch: 3\t iter: 1000\t loss:1.03988\n",
      "epoch: 3\t iter: 2000\t loss:1.02852\n",
      "epoch: 3\t iter: 3000\t loss:1.02458\n",
      "epoch: 3\t iter: 4000\t loss:1.00976\n",
      "epoch: 3\t iter: 5000\t loss:1.01222\n",
      "epoch: 3\t iter: 6000\t loss:1.02607\n",
      "epoch: 4\t iter: 1000\t loss:0.97244\n",
      "epoch: 4\t iter: 2000\t loss:0.94880\n",
      "epoch: 4\t iter: 3000\t loss:0.96656\n",
      "epoch: 4\t iter: 4000\t loss:0.97462\n",
      "epoch: 4\t iter: 5000\t loss:0.92700\n",
      "epoch: 4\t iter: 6000\t loss:0.95921\n",
      "epoch: 5\t iter: 1000\t loss:0.93221\n",
      "epoch: 5\t iter: 2000\t loss:0.91199\n",
      "epoch: 5\t iter: 3000\t loss:0.92879\n",
      "epoch: 5\t iter: 4000\t loss:0.91547\n",
      "epoch: 5\t iter: 5000\t loss:0.89743\n",
      "epoch: 5\t iter: 6000\t loss:0.90063\n",
      "epoch: 6\t iter: 1000\t loss:0.88679\n",
      "epoch: 6\t iter: 2000\t loss:0.86460\n",
      "epoch: 6\t iter: 3000\t loss:0.87865\n",
      "epoch: 6\t iter: 4000\t loss:0.86794\n",
      "epoch: 6\t iter: 5000\t loss:0.88700\n",
      "epoch: 6\t iter: 6000\t loss:0.85193\n",
      "epoch: 7\t iter: 1000\t loss:0.82987\n",
      "epoch: 7\t iter: 2000\t loss:0.85202\n",
      "epoch: 7\t iter: 3000\t loss:0.86287\n",
      "epoch: 7\t iter: 4000\t loss:0.86161\n",
      "epoch: 7\t iter: 5000\t loss:0.83828\n",
      "epoch: 7\t iter: 6000\t loss:0.86482\n",
      "epoch: 8\t iter: 1000\t loss:0.82124\n",
      "epoch: 8\t iter: 2000\t loss:0.83581\n",
      "epoch: 8\t iter: 3000\t loss:0.82320\n",
      "epoch: 8\t iter: 4000\t loss:0.83424\n",
      "epoch: 8\t iter: 5000\t loss:0.81813\n",
      "epoch: 8\t iter: 6000\t loss:0.82750\n",
      "epoch: 9\t iter: 1000\t loss:0.79590\n",
      "epoch: 9\t iter: 2000\t loss:0.81121\n",
      "epoch: 9\t iter: 3000\t loss:0.82647\n",
      "epoch: 9\t iter: 4000\t loss:0.83324\n",
      "epoch: 9\t iter: 5000\t loss:0.78416\n",
      "epoch: 9\t iter: 6000\t loss:0.82452\n",
      "epoch: 10\t iter: 1000\t loss:0.77190\n",
      "epoch: 10\t iter: 2000\t loss:0.78832\n",
      "epoch: 10\t iter: 3000\t loss:0.80804\n",
      "epoch: 10\t iter: 4000\t loss:0.80227\n",
      "epoch: 10\t iter: 5000\t loss:0.80430\n",
      "epoch: 10\t iter: 6000\t loss:0.79942\n",
      "epoch: 11\t iter: 1000\t loss:0.76684\n",
      "epoch: 11\t iter: 2000\t loss:0.78954\n",
      "epoch: 11\t iter: 3000\t loss:0.78563\n",
      "epoch: 11\t iter: 4000\t loss:0.79004\n",
      "epoch: 11\t iter: 5000\t loss:0.77931\n",
      "epoch: 11\t iter: 6000\t loss:0.78868\n",
      "epoch: 12\t iter: 1000\t loss:0.74538\n",
      "epoch: 12\t iter: 2000\t loss:0.76686\n",
      "epoch: 12\t iter: 3000\t loss:0.75611\n",
      "epoch: 12\t iter: 4000\t loss:0.76019\n",
      "epoch: 12\t iter: 5000\t loss:0.77028\n",
      "epoch: 12\t iter: 6000\t loss:0.77696\n",
      "Finished Training\n",
      "\n",
      "Accuracy of plane: \t 78.3%\n",
      "Accuracy of car: \t 84.7%\n",
      "Accuracy of bird: \t 69.7%\n",
      "Accuracy of cat: \t 56.1%\n",
      "Accuracy of deer: \t 74.4%\n",
      "Accuracy of dog: \t 61.9%\n",
      "Accuracy of frog: \t 76.0%\n",
      "Accuracy of horse: \t 78.2%\n",
      "Accuracy of ship: \t 75.3%\n",
      "Accuracy of truck: \t 85.0%\n",
      "\n",
      "Accuracy of the network on the 10000 test images: 73.96%\n"
     ]
    }
   ],
   "source": [
    "writer_aug = SummaryWriter(f'./{LOG_DIR}/augmentation')\n",
    "net_aug, criterion, optimizer = initialize_net(Net, device=device)\n",
    "train_nn(net_aug, criterion, optimizer, writer_aug, n_epochs=16, loder=trainloader_aug)\n",
    "print()\n",
    "evaluate_net(net_aug)"
   ]
  },
  {
   "cell_type": "markdown",
   "metadata": {},
   "source": [
    "#### Loss\n",
    "<div>\n",
    "    <img src='./screenshots/loss_main_vs_aug.png' width=250/>\n",
    "<div/>\n",
    "\n",
    "#### Errors\n",
    "<div>\n",
    "    <img src='./screenshots/errors_main_vs_aug.png' width=500/>\n",
    "<div/>\n",
    "    \n",
    "While the loss and train error of the non-augmented model (in blue) keeps improving it seems that the test error has already saturated.  \n",
    "Further training would probably overfit the train data.  \n",
    "On the other hand, the loss of the model trained on the augmented data (light blue) is larger than the loss of the basic model but the test error is still decreasing.  \n",
    "If we would have trained for more epochs it would probably outperform the basic model.\n"
   ]
  },
  {
   "cell_type": "markdown",
   "metadata": {},
   "source": [
    "## Transfer learning using a NN pre-trained on ImageNet\n",
    "In this section, we will use a pretrained network and build a classifier using it to predict the labels of our task."
   ]
  },
  {
   "cell_type": "markdown",
   "metadata": {},
   "source": [
    "You might find these resources useful:\n",
    "- https://pytorch.org/tutorials/beginner/transfer_learning_tutorial.html\n",
    "- https://towardsdatascience.com/transfer-learning-with-convolutional-neural-networks-in-pytorch-dd09190245ce\n",
    "- https://www.analyticsvidhya.com/blog/2019/10/how-to-master-transfer-learning-using-pytorch/\n",
    "- https://heartbeat.fritz.ai/transfer-learning-with-pytorch-cfcb69016c72"
   ]
  },
  {
   "cell_type": "markdown",
   "metadata": {},
   "source": [
    "### Use a frozen pre-trained network\n",
    "Use a VGG-16 network, including its weights pretrained on ImageNet.  \n",
    "Use the pretrained network to obtain the distributed representation in the final layer (the one before the output softmax layer). Freeze the network weights, and add 2 fully connected layers on top of it to classify the images."
   ]
  },
  {
   "cell_type": "code",
   "execution_count": 57,
   "metadata": {},
   "outputs": [
    {
     "data": {
      "text/plain": [
       "Sequential(\n",
       "  (0): Linear(in_features=25088, out_features=4096, bias=True)\n",
       "  (1): ReLU(inplace=True)\n",
       "  (2): Dropout(p=0.5, inplace=False)\n",
       "  (3): Linear(in_features=4096, out_features=4096, bias=True)\n",
       "  (4): ReLU(inplace=True)\n",
       "  (5): Dropout(p=0.5, inplace=False)\n",
       "  (6): Linear(in_features=4096, out_features=1000, bias=True)\n",
       ")"
      ]
     },
     "execution_count": 57,
     "metadata": {},
     "output_type": "execute_result"
    }
   ],
   "source": [
    "from torchvision import models\n",
    "\n",
    "model = models.vgg16(pretrained=True)\n",
    "\n",
    "for param in model.parameters():\n",
    "    param.requires_grad = False\n",
    "\n",
    "# show previous classifiers in network\n",
    "model.classifier"
   ]
  },
  {
   "cell_type": "code",
   "execution_count": 58,
   "metadata": {},
   "outputs": [
    {
     "data": {
      "text/plain": [
       "Sequential(\n",
       "  (0): Linear(in_features=25088, out_features=4096, bias=True)\n",
       "  (1): ReLU(inplace=True)\n",
       "  (2): Dropout(p=0.5, inplace=False)\n",
       "  (3): Linear(in_features=4096, out_features=4096, bias=True)\n",
       "  (4): ReLU(inplace=True)\n",
       "  (5): Dropout(p=0.5, inplace=False)\n",
       "  (6): Sequential(\n",
       "    (0): Linear(in_features=4096, out_features=256, bias=True)\n",
       "    (1): ReLU()\n",
       "    (2): Linear(in_features=256, out_features=10, bias=True)\n",
       "    (3): LogSoftmax()\n",
       "  )\n",
       ")"
      ]
     },
     "execution_count": 58,
     "metadata": {},
     "output_type": "execute_result"
    }
   ],
   "source": [
    "torch.manual_seed(42)\n",
    "if device == 'cuda':\n",
    "    torch.backends.cudnn.deterministic = True\n",
    "    torch.backends.cudnn.benchmark = False\n",
    "\n",
    "# Add on classifier\n",
    "model.classifier[6] = nn.Sequential(\n",
    "                      nn.Linear(4096, 256), \n",
    "                      nn.ReLU(), \n",
    "                      nn.Linear(256, 10),                   \n",
    "                      nn.LogSoftmax(dim=1))\n",
    "\n",
    "for param in model.classifier[6].parameters():\n",
    "    param.requires_grad = True\n",
    "\n",
    "model = model.to(device)\n",
    "\n",
    "optimizer = optim.Adam(model.parameters(), lr=0.00001)\n",
    "criterion = nn.CrossEntropyLoss()\n",
    "\n",
    "# show new model\n",
    "model.classifier"
   ]
  },
  {
   "cell_type": "code",
   "execution_count": 59,
   "metadata": {},
   "outputs": [
    {
     "name": "stdout",
     "output_type": "stream",
     "text": [
      "epoch: 1\t iter: 1000\t loss:1.96632\n",
      "epoch: 1\t iter: 2000\t loss:1.52945\n",
      "epoch: 1\t iter: 3000\t loss:1.38018\n",
      "epoch: 1\t iter: 4000\t loss:1.33278\n",
      "epoch: 1\t iter: 5000\t loss:1.30471\n",
      "epoch: 1\t iter: 6000\t loss:1.27097\n",
      "epoch: 2\t iter: 1000\t loss:1.23169\n",
      "epoch: 2\t iter: 2000\t loss:1.21808\n",
      "epoch: 2\t iter: 3000\t loss:1.21454\n",
      "epoch: 2\t iter: 4000\t loss:1.21440\n",
      "epoch: 2\t iter: 5000\t loss:1.19182\n",
      "epoch: 2\t iter: 6000\t loss:1.19140\n",
      "epoch: 3\t iter: 1000\t loss:1.17606\n",
      "epoch: 3\t iter: 2000\t loss:1.15541\n",
      "epoch: 3\t iter: 3000\t loss:1.16162\n",
      "epoch: 3\t iter: 4000\t loss:1.17481\n",
      "epoch: 3\t iter: 5000\t loss:1.15934\n",
      "epoch: 3\t iter: 6000\t loss:1.15473\n",
      "epoch: 4\t iter: 1000\t loss:1.13148\n",
      "epoch: 4\t iter: 2000\t loss:1.13348\n",
      "epoch: 4\t iter: 3000\t loss:1.14606\n",
      "epoch: 4\t iter: 4000\t loss:1.15383\n",
      "epoch: 4\t iter: 5000\t loss:1.14020\n",
      "epoch: 4\t iter: 6000\t loss:1.13424\n",
      "epoch: 5\t iter: 1000\t loss:1.12932\n",
      "epoch: 5\t iter: 2000\t loss:1.12515\n",
      "epoch: 5\t iter: 3000\t loss:1.11502\n",
      "epoch: 5\t iter: 4000\t loss:1.12185\n",
      "epoch: 5\t iter: 5000\t loss:1.12517\n",
      "epoch: 5\t iter: 6000\t loss:1.13801\n",
      "epoch: 6\t iter: 1000\t loss:1.11136\n",
      "epoch: 6\t iter: 2000\t loss:1.13353\n",
      "epoch: 6\t iter: 3000\t loss:1.13421\n",
      "epoch: 6\t iter: 4000\t loss:1.09262\n",
      "epoch: 6\t iter: 5000\t loss:1.09561\n",
      "epoch: 6\t iter: 6000\t loss:1.11124\n",
      "epoch: 7\t iter: 1000\t loss:1.10818\n",
      "epoch: 7\t iter: 2000\t loss:1.10610\n",
      "epoch: 7\t iter: 3000\t loss:1.09804\n",
      "epoch: 7\t iter: 4000\t loss:1.09929\n",
      "epoch: 7\t iter: 5000\t loss:1.09089\n",
      "epoch: 7\t iter: 6000\t loss:1.10441\n",
      "epoch: 8\t iter: 1000\t loss:1.10034\n",
      "epoch: 8\t iter: 2000\t loss:1.07263\n",
      "epoch: 8\t iter: 3000\t loss:1.08626\n",
      "epoch: 8\t iter: 4000\t loss:1.10175\n",
      "epoch: 8\t iter: 5000\t loss:1.09719\n",
      "epoch: 8\t iter: 6000\t loss:1.09791\n",
      "Finished Training\n"
     ]
    }
   ],
   "source": [
    "for epoch in range(8):  # loop over the dataset multiple times\n",
    "\n",
    "    running_loss = 0.0\n",
    "    for i, data_train in enumerate(trainloader):\n",
    "        # get the inputs; data is a list of [inputs, labels]\n",
    "        inputs, labels = data_train[0].to(device), data_train[1].to(device)\n",
    "        # zero the parameter gradients\n",
    "        optimizer.zero_grad()\n",
    "\n",
    "        # forward + backward + optimize\n",
    "        outputs = model(inputs)\n",
    "        loss = criterion(outputs, labels)\n",
    "        loss.backward()\n",
    "        optimizer.step()\n",
    "\n",
    "        # print statistics\n",
    "        running_loss += loss.item()\n",
    "        if i % 1000 == 999:    # print every 2000 mini-batches\n",
    "            print(f'epoch: {epoch + 1}\\t iter: {i + 1}\\t loss:{running_loss / 1000:.5f}')\n",
    "            running_loss = 0.0\n",
    "\n",
    "print('Finished Training')"
   ]
  },
  {
   "cell_type": "code",
   "execution_count": 60,
   "metadata": {},
   "outputs": [
    {
     "name": "stdout",
     "output_type": "stream",
     "text": [
      "Accuracy of plane: \t 65.0%\n",
      "Accuracy of car: \t 65.2%\n",
      "Accuracy of bird: \t 45.3%\n",
      "Accuracy of cat: \t 45.7%\n",
      "Accuracy of deer: \t 52.2%\n",
      "Accuracy of dog: \t 53.1%\n",
      "Accuracy of frog: \t 71.0%\n",
      "Accuracy of horse: \t 60.9%\n",
      "Accuracy of ship: \t 65.8%\n",
      "Accuracy of truck: \t 66.4%\n",
      "\n",
      "Accuracy of the network on the 10000 test images: 59.06%\n"
     ]
    }
   ],
   "source": [
    "evaluate_net(model)"
   ]
  },
  {
   "cell_type": "markdown",
   "metadata": {},
   "source": [
    "### Fine tuning the weights\n",
    "In this section, we'll unfreeze the pre-trained weights of the network and allow them to change.  \n",
    "Be careful - when fine-tuning a network, there is a risk that our attempt to allow the network to adapt to the new domain will lead to a \"catastrophic forgetting\" of what it had previously learnt."
   ]
  },
  {
   "cell_type": "markdown",
   "metadata": {},
   "source": [
    "<div>\n",
    "    <font color='red' size=5> Please find the solution in the attached notebook 'fine tuning weights'\n",
    "<div>"
   ]
  },
  {
   "cell_type": "markdown",
   "metadata": {},
   "source": [
    "## Suggested Resources\n",
    "1. A good explanation of the different losses - https://gombru.github.io/2019/04/03/ranking_loss/\n",
    "1. A repo with code implementing CNN classifiers, Siamese networks and Triplet loss with different selection regimes for the MNIST and Fashion-MNIST datasets - https://github.com/adambielski/siamese-triplet\n",
    "1. There are several resources online for the VGG-Face network (see https://www.robots.ox.ac.uk/~vgg/publications/2015/Parkhi15/parkhi15.pdf), that include pre-trained weights on a face recognition dataset. The weights are here - http://www.robots.ox.ac.uk/~vgg/software/vgg_face/, and PyTorch models are here - http://www.robots.ox.ac.uk/~albanie/pytorch-models.html, and you can also check out https://github.com/prlz77/vgg-face.pytorch and https://github.com/claudio-unipv/vggface-pytorch."
   ]
  },
  {
   "cell_type": "code",
   "execution_count": null,
   "metadata": {},
   "outputs": [],
   "source": []
  }
 ],
 "metadata": {
  "kernelspec": {
   "display_name": "Python 3",
   "language": "python",
   "name": "python3"
  },
  "language_info": {
   "codemirror_mode": {
    "name": "ipython",
    "version": 3
   },
   "file_extension": ".py",
   "mimetype": "text/x-python",
   "name": "python",
   "nbconvert_exporter": "python",
   "pygments_lexer": "ipython3",
   "version": "3.6.10"
  },
  "varInspector": {
   "cols": {
    "lenName": 16,
    "lenType": 16,
    "lenVar": 40
   },
   "kernels_config": {
    "python": {
     "delete_cmd_postfix": "",
     "delete_cmd_prefix": "del ",
     "library": "var_list.py",
     "varRefreshCmd": "print(var_dic_list())"
    },
    "r": {
     "delete_cmd_postfix": ") ",
     "delete_cmd_prefix": "rm(",
     "library": "var_list.r",
     "varRefreshCmd": "cat(var_dic_list()) "
    }
   },
   "types_to_exclude": [
    "module",
    "function",
    "builtin_function_or_method",
    "instance",
    "_Feature"
   ],
   "window_display": false
  }
 },
 "nbformat": 4,
 "nbformat_minor": 4
}
