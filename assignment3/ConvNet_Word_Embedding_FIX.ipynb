{
 "cells": [
  {
   "cell_type": "markdown",
   "metadata": {},
   "source": [
    "### Text classification using ConvNet\n",
    "Do the same, using a ConvNet.  \n",
    "The ConvNet should get as input a 2D matrix where each column is an embedding vector of a single word, and words are in order. Use zero padding so that all matrices have a similar length.  \n",
    "Some songs might be very long. Trim them so you keep a maximum of 128 words (after cleaning stop words and rare words).  \n",
    "Initialize the embedding layer using the word vectors that you've trained before, but allow them to change during training.  \n",
    "\n",
    "Extra: Try training the ConvNet with 2 slight modifications:\n",
    "1. freezing the the weights trained using Word2vec (preventing it from updating)\n",
    "1. random initialization of the embedding layer"
   ]
  },
  {
   "cell_type": "markdown",
   "metadata": {},
   "source": [
    "You are encouraged to try this question on your own.  \n",
    "\n",
    "You might prefer to get ideas from the paper \"Convolutional Neural Networks for Sentence Classification\" (Kim 2014, [link](https://arxiv.org/abs/1408.5882)).\n",
    "\n",
    "There are several implementations of the paper code in PyTorch online (see for example [this repo](https://github.com/prakashpandey9/Text-Classification-Pytorch) for a PyTorch implementation of CNN and other architectures for text classification). If you get stuck, they might provide you with a reference for your own code."
   ]
  },
  {
   "cell_type": "code",
   "execution_count": 1,
   "metadata": {},
   "outputs": [],
   "source": [
    "import os\n",
    "import time\n",
    "\n",
    "import numpy as np\n",
    "import pandas as pd\n",
    "\n",
    "import torch\n",
    "import torch.nn as nn\n",
    "import torch.nn.functional as F\n",
    "# from torch.autograd import Variable\n",
    "import torch.optim as optim\n",
    "import torch.utils.data as data_utils\n",
    "\n",
    "from gensim.models import Word2Vec\n",
    "from gensim.models.callbacks import CallbackAny2Vec\n",
    "\n",
    "from sklearn.model_selection import train_test_split\n",
    "from sklearn.feature_extraction.text import CountVectorizer\n",
    "from sklearn.metrics import classification_report, plot_confusion_matrix\n",
    "\n",
    "import matplotlib.pyplot as plt\n",
    "%matplotlib inline"
   ]
  },
  {
   "cell_type": "code",
   "execution_count": 2,
   "metadata": {},
   "outputs": [
    {
     "data": {
      "text/plain": [
       "True"
      ]
     },
     "execution_count": 2,
     "metadata": {},
     "output_type": "execute_result"
    }
   ],
   "source": [
    "torch.cuda.is_available()"
   ]
  },
  {
   "cell_type": "code",
   "execution_count": 3,
   "metadata": {},
   "outputs": [],
   "source": [
    "DATA_FILE = 'lyrics.csv'\n",
    "DATA_DIR = 'data'\n",
    "MODELS_DIR = 'models'\n",
    "\n",
    "MAX_N_WORDS = 128\n",
    "MAX_FEATURES = 5000"
   ]
  },
  {
   "cell_type": "code",
   "execution_count": 4,
   "metadata": {},
   "outputs": [],
   "source": [
    "class EpochLogger(CallbackAny2Vec):\n",
    "    \"\"\"Callback to log information about training\"\"\"\n",
    "    \n",
    "    def __init__(self):\n",
    "        pass\n",
    "\n",
    "    \n",
    "w2v = Word2Vec.load(os.path.join(MODELS_DIR, 'w2v.model'))\n",
    "# w2v.init_sims(replace=True)\n",
    "\n",
    "df = pd.read_pickle(os.path.join(DATA_DIR, 'lyrics_df.pkl'))\n",
    "df.drop(df[df.genre == 'Not Available'].index, axis=0, inplace=True)"
   ]
  },
  {
   "cell_type": "markdown",
   "metadata": {},
   "source": [
    "First we will prepare the data for training - we split the data into train and test, crop lyrics to the the required length and pad them if needed, and convert each lyrics to a one hot, 2d representation using CountVectorizor"
   ]
  },
  {
   "cell_type": "code",
   "execution_count": 5,
   "metadata": {},
   "outputs": [],
   "source": [
    "def clip_lyrics(row, n_words):\n",
    "    return row.clean_lyrics[:n_words]\n",
    "\n",
    "\n",
    "def lyrics_to_embedding(row, n_words, n_features, count_vect):\n",
    "    \n",
    "    embedding = count_vect.transform(row).toarray().argmax(axis=1)\n",
    "    \n",
    "    n_vects = embedding.shape[0]\n",
    "    if n_vects < n_words:\n",
    "        embedding = np.append(embedding, \n",
    "                              np.zeros(n_words - n_vects, dtype=int),\n",
    "                              axis=0)\n",
    "    return embedding\n"
   ]
  },
  {
   "cell_type": "code",
   "execution_count": 6,
   "metadata": {},
   "outputs": [],
   "source": [
    "\n",
    "# df = df.iloc[idx].copy()\n",
    "df['genre_code'] = df.genre.astype('category').cat.codes\n",
    "df['cropped_lyrics'] = df.apply(clip_lyrics, args=(MAX_N_WORDS,), axis=1)\n",
    "genres_codes = df[['genre', 'genre_code']].drop_duplicates().set_index('genre_code').sort_index().squeeze()\n",
    "\n",
    "\n",
    "X_train, X_test, y_train, y_test = train_test_split(df.cropped_lyrics, \n",
    "                                                    df.genre_code, \n",
    "                                                    test_size=0.2, random_state=42)\n"
   ]
  },
  {
   "cell_type": "code",
   "execution_count": 7,
   "metadata": {},
   "outputs": [
    {
     "name": "stdout",
     "output_type": "stream",
     "text": [
      "CPU times: user 10.2 s, sys: 100 ms, total: 10.3 s\n",
      "Wall time: 10.3 s\n"
     ]
    }
   ],
   "source": [
    "%%time\n",
    "vocab = w2v.wv.index2word[:MAX_FEATURES]\n",
    "count_vect = CountVectorizer(vocabulary=vocab).fit(X_train.str.join(' '))"
   ]
  },
  {
   "cell_type": "code",
   "execution_count": 8,
   "metadata": {},
   "outputs": [
    {
     "name": "stdout",
     "output_type": "stream",
     "text": [
      "CPU times: user 3min 17s, sys: 59.3 ms, total: 3min 17s\n",
      "Wall time: 3min 17s\n"
     ]
    }
   ],
   "source": [
    "%%time\n",
    "X_train = X_train.apply(lyrics_to_embedding, args=(MAX_N_WORDS, MAX_FEATURES, count_vect))\n",
    "X_test = X_test.apply(lyrics_to_embedding, args=(MAX_N_WORDS, MAX_FEATURES, count_vect))"
   ]
  },
  {
   "cell_type": "markdown",
   "metadata": {},
   "source": [
    "X_train we convert the processed data into dataloaders to be used for our model."
   ]
  },
  {
   "cell_type": "code",
   "execution_count": 9,
   "metadata": {},
   "outputs": [],
   "source": [
    "batch_size = 32\n",
    "\n",
    "train_target = torch.tensor(y_train.values).long()\n",
    "train = torch.tensor(np.stack(X_train.values)).long()\n",
    "train_tensor = data_utils.TensorDataset(train, train_target) \n",
    "train_loader = data_utils.DataLoader(dataset=train_tensor, batch_size=batch_size, shuffle=True)\n",
    "\n",
    "test_target = torch.tensor(y_test.values).long()\n",
    "test = torch.tensor(np.stack(X_test.values)).long()\n",
    "test_tensor = data_utils.TensorDataset(test, test_target) \n",
    "test_loader = data_utils.DataLoader(dataset=test_tensor, batch_size=batch_size, shuffle=True)"
   ]
  },
  {
   "cell_type": "markdown",
   "metadata": {},
   "source": [
    "We define our model - the model will receive as input a 2d, one hot representation of the lyrics, as a sequence, and will make use of the word2vec embeddings, allowing them to change during training."
   ]
  },
  {
   "cell_type": "code",
   "execution_count": 10,
   "metadata": {},
   "outputs": [],
   "source": [
    "def train_loop(epoch, log_interval=500):\n",
    "    model.train()  # set training mode\n",
    "#     lr = 5e-5\n",
    "    print(lr)\n",
    "    iteration = 1\n",
    "    for ep in range(1, epoch+1):\n",
    "#         if ep % 10==0:\n",
    "#             print(f'decreasing learning rate from {lr} to {lr/2}\\n')\n",
    "#             lr /= 2\n",
    "        optimizer = torch.optim.Adam(filter(lambda p: p.requires_grad, model.parameters()), lr=lr)\n",
    "        start = time.time()\n",
    "        \n",
    "        for batch_idx, (X, target) in enumerate(train_loader, start=1):\n",
    "            # bring data to the computing device, e.g. GPU\n",
    "            X, target = X.to(device), target.to(device)\n",
    "            \n",
    "            optimizer.zero_grad()\n",
    "            output = model(X)\n",
    "            loss = criterion(output, target)\n",
    "            loss.backward()\n",
    "            optimizer.step()\n",
    "            \n",
    "            if (iteration % log_interval) == 0:\n",
    "                print(f'Epoch:{ep:>2}/{epoch}\\tBatch:{batch_idx:>5}/{len(train_loader)}',\n",
    "                      f'Samples:{batch_idx * len(X):>6}/{len(train_loader.dataset):<6} ({100 * batch_idx // len(train_loader):<3}%)', \n",
    "                      f'\\tLoss: {loss.item():.3f}\\tElapsed Time: {time.time()-start:.2f}s')\n",
    "        \n",
    "            iteration += 1\n",
    "            \n",
    "        test(plot_cm=(ep == epoch)) # evaluate at the end of epoch\n",
    "        print(f'{\"=\"*50} \\nElapsed time: {time.time()-start:.2f}s\\n')\n",
    "        \n",
    "def test(plot_cm=False):\n",
    "    model.eval()  # set evaluation mode\n",
    "    test_loss = 0\n",
    "    correct = 0\n",
    "    total = 0\n",
    "    predictions = []\n",
    "    confusion_matrix = torch.zeros(model.n_labels, model.n_labels)\n",
    "    with torch.no_grad():\n",
    "        for data, target in test_loader:\n",
    "            data, target = data.to(device), target.to(device)\n",
    "            output = model(data)\n",
    "            test_loss += criterion(output, target).item() # sum up batch loss\n",
    "            pred = output.max(1)[1] # get the index of the max log-probability\n",
    "            \n",
    "            correct += (pred == target).sum().item()\n",
    "            total += target.size(0)\n",
    "            for t, p in zip(target, pred):\n",
    "                confusion_matrix[t, p] += 1\n",
    "    \n",
    "    test_loss /= len(test_loader)\n",
    "    print('\\nTest set: Average loss: {:.4f}, Accuracy: {}/{} ({:.0f}%)\\n'.format(\n",
    "        test_loss, correct, len(test_loader.dataset),\n",
    "        100. * correct / len(test_loader.dataset)))\n",
    "    \n",
    "    if plot_cm:\n",
    "        \n",
    "        class_correct = confusion_matrix.diag()\n",
    "        class_total = confusion_matrix.sum(1)\n",
    "        class_accuracies = 100 * class_correct / class_total\n",
    "        \n",
    "        for code, label in genres_codes.items():\n",
    "            confusion_matrix[code] = confusion_matrix[code] / confusion_matrix[code].sum()\n",
    "            print(f'Accuracy for {label}: {class_accuracies[code]:.3f}%')\n",
    "        \n",
    "        print(f'\\nMean per class accuracy: {class_accuracies.mean():.3f}%')\n",
    "\n",
    "        # Plot confusion matrix\n",
    "        f = plt.figure()\n",
    "        ax = f.add_subplot(111)\n",
    "        cax = ax.imshow(confusion_matrix.numpy(), interpolation='nearest', cmap=plt.cm.Blues)\n",
    "        f.colorbar(cax)\n",
    "        plt.xticks(range(genres_codes.size), genres_codes.to_list(), rotation=90)\n",
    "        plt.yticks(range(genres_codes.size), genres_codes.to_list())\n",
    "\n",
    "    "
   ]
  },
  {
   "cell_type": "code",
   "execution_count": 11,
   "metadata": {},
   "outputs": [],
   "source": [
    "\n",
    "class ConvNet(nn.Module):\n",
    "    def __init__(self, n_labels, initial_weights=None, freeze_weights=False,\n",
    "                 in_channels=1, out_channels=100, \n",
    "                 kernels=[3,4,5], padding=0, stride=1, \n",
    "                 keep_probab = 0.5,\n",
    "                ):\n",
    "        super(ConvNet, self).__init__()\n",
    "        \n",
    "        self.n_labels = n_labels\n",
    "        self.allow_grad = True\n",
    "        \n",
    "        if initial_weights is None:\n",
    "            raise NotImplementedError('Random Initialization Not Implemented Yet')\n",
    "        else:\n",
    "            self.init_weights = torch.tensor(initial_weights, dtype=torch.float)\n",
    "            self.allow_grad = not freeze_weights\n",
    "            vocab_size, embedding_length = initial_weights.shape\n",
    "\n",
    "        \n",
    "        self.kernels = np.asarray(kernels)\n",
    "                \n",
    "        self.word_embeddings = nn.Embedding(vocab_size, embedding_length)\n",
    "        self.word_embeddings.weight = nn.Parameter(self.init_weights, requires_grad=True)\n",
    "        \n",
    "        self.conv1 = nn.Conv2d(in_channels, out_channels, \n",
    "                               kernel_size=(kernels[0], embedding_length), \n",
    "                               stride=embedding_length, \n",
    "                               )\n",
    "        \n",
    "        self.conv2 = nn.Conv2d(in_channels, out_channels, \n",
    "                               kernel_size=(kernels[1], embedding_length), \n",
    "                               stride=embedding_length, \n",
    "                               )\n",
    "        \n",
    "        self.conv3 = nn.Conv2d(in_channels, out_channels, \n",
    "                               kernel_size=(kernels[2], embedding_length), \n",
    "                               stride=embedding_length, \n",
    "                               )\n",
    "        \n",
    "        self.dropout = nn.Dropout(p=keep_probab)\n",
    "        self.label = nn.Linear(len(kernels)*out_channels, n_labels)\n",
    "        \n",
    "    def _conv_block(self, x, conv_layer):\n",
    "        conv_out = conv_layer(x)  # conv_out.size() = (batch_size, out_channels, dim, 1)\n",
    "        activation = F.relu(conv_out.squeeze(3))  # activation.size() = (batch_size, out_channels, dim1)\n",
    "        max_out = F.max_pool1d(activation, activation.size()[2]).squeeze(2)  # maxpool_out.size() = (batch_size, out_channels)\n",
    "        return max_out\n",
    "\n",
    "    def forward(self, x):\n",
    "    \n",
    "        x = self.word_embeddings(x)\n",
    "        out = x.unsqueeze(1)\n",
    "        max_out1 = self._conv_block(out, self.conv1)\n",
    "        max_out2 = self._conv_block(out, self.conv2)\n",
    "        max_out3 = self._conv_block(out, self.conv3)\n",
    "\n",
    "        all_out = torch.cat((max_out1, max_out2, max_out3), 1)\n",
    "        all_out = all_out.view(all_out.size(0), -1)\n",
    "        fc_in = self.dropout(all_out)\n",
    "        \n",
    "        scores = self.label(fc_in)\n",
    "        \n",
    "#         scores = F.softmax(scores, dim=1)\n",
    "        return scores\n",
    "        \n"
   ]
  },
  {
   "cell_type": "code",
   "execution_count": 12,
   "metadata": {},
   "outputs": [
    {
     "name": "stdout",
     "output_type": "stream",
     "text": [
      "cuda:0\n"
     ]
    }
   ],
   "source": [
    "# Use GPU if available, otherwise stick with cpu\n",
    "use_cuda = torch.cuda.is_available()\n",
    "torch.manual_seed(42)\n",
    "if use_cuda:\n",
    "    torch.cuda.manual_seed(42)\n",
    "device = torch.device(\"cuda:0\" if use_cuda else \"cpu\")\n",
    "print(device)"
   ]
  },
  {
   "cell_type": "code",
   "execution_count": 13,
   "metadata": {},
   "outputs": [],
   "source": [
    "output_size = np.unique(y_train).size\n",
    "bow_vocab = count_vect.vocabulary  \n",
    "\n",
    "model = ConvNet(initial_weights=w2v.wv[bow_vocab], n_labels=output_size).to(device)\n",
    "optimizer = torch.optim.Adam(filter(lambda p: p.requires_grad, model.parameters()), lr=1e-5)\n",
    "\n",
    "weights = torch.Tensor(y_train.value_counts().max() / y_train.value_counts().sort_index()).to(device)\n",
    "criterion = nn.CrossEntropyLoss(weight=weights)"
   ]
  },
  {
   "cell_type": "code",
   "execution_count": 14,
   "metadata": {},
   "outputs": [
    {
     "data": {
      "text/plain": [
       "tensor([ 7.4922, 14.1662, 51.1544,  4.3104, 34.2876, 13.5466,  4.6881, 20.5281,\n",
       "         2.6576, 30.9370,  1.0000])"
      ]
     },
     "execution_count": 14,
     "metadata": {},
     "output_type": "execute_result"
    }
   ],
   "source": [
    "torch.Tensor(y_train.value_counts().max() / y_train.value_counts().sort_index())"
   ]
  },
  {
   "cell_type": "code",
   "execution_count": 17,
   "metadata": {},
   "outputs": [
    {
     "name": "stdout",
     "output_type": "stream",
     "text": [
      "0.0001\n",
      "Epoch: 1/5\tBatch:  500/5955 Samples: 16000/190551 (8  %) \tLoss: 2.237\tElapsed Time: 1.58s\n",
      "Epoch: 1/5\tBatch: 1000/5955 Samples: 32000/190551 (16 %) \tLoss: 2.063\tElapsed Time: 3.16s\n",
      "Epoch: 1/5\tBatch: 1500/5955 Samples: 48000/190551 (25 %) \tLoss: 2.223\tElapsed Time: 4.68s\n",
      "Epoch: 1/5\tBatch: 2000/5955 Samples: 64000/190551 (33 %) \tLoss: 2.092\tElapsed Time: 6.20s\n",
      "Epoch: 1/5\tBatch: 2500/5955 Samples: 80000/190551 (41 %) \tLoss: 2.167\tElapsed Time: 7.71s\n",
      "Epoch: 1/5\tBatch: 3000/5955 Samples: 96000/190551 (50 %) \tLoss: 2.255\tElapsed Time: 9.21s\n",
      "Epoch: 1/5\tBatch: 3500/5955 Samples:112000/190551 (58 %) \tLoss: 2.440\tElapsed Time: 10.74s\n",
      "Epoch: 1/5\tBatch: 4000/5955 Samples:128000/190551 (67 %) \tLoss: 1.965\tElapsed Time: 12.27s\n",
      "Epoch: 1/5\tBatch: 4500/5955 Samples:144000/190551 (75 %) \tLoss: 2.191\tElapsed Time: 13.80s\n",
      "Epoch: 1/5\tBatch: 5000/5955 Samples:160000/190551 (83 %) \tLoss: 2.177\tElapsed Time: 15.33s\n",
      "Epoch: 1/5\tBatch: 5500/5955 Samples:176000/190551 (92 %) \tLoss: 2.374\tElapsed Time: 16.87s\n",
      "\n",
      "Test set: Average loss: 2.1325, Accuracy: 10021/47638 (21%)\n",
      "\n",
      "================================================== \n",
      "Elapsed time: 23.04s\n",
      "\n",
      "Epoch: 2/5\tBatch:   45/5955 Samples:  1440/190551 (0  %) \tLoss: 1.928\tElapsed Time: 0.17s\n",
      "Epoch: 2/5\tBatch:  545/5955 Samples: 17440/190551 (9  %) \tLoss: 2.197\tElapsed Time: 1.68s\n",
      "Epoch: 2/5\tBatch: 1045/5955 Samples: 33440/190551 (17 %) \tLoss: 2.258\tElapsed Time: 3.22s\n",
      "Epoch: 2/5\tBatch: 1545/5955 Samples: 49440/190551 (25 %) \tLoss: 2.152\tElapsed Time: 4.74s\n",
      "Epoch: 2/5\tBatch: 2045/5955 Samples: 65440/190551 (34 %) \tLoss: 2.239\tElapsed Time: 6.38s\n",
      "Epoch: 2/5\tBatch: 2545/5955 Samples: 81440/190551 (42 %) \tLoss: 1.990\tElapsed Time: 8.04s\n",
      "Epoch: 2/5\tBatch: 3045/5955 Samples: 97440/190551 (51 %) \tLoss: 1.665\tElapsed Time: 9.57s\n",
      "Epoch: 2/5\tBatch: 3545/5955 Samples:113440/190551 (59 %) \tLoss: 2.428\tElapsed Time: 11.09s\n",
      "Epoch: 2/5\tBatch: 4045/5955 Samples:129440/190551 (67 %) \tLoss: 1.918\tElapsed Time: 12.81s\n",
      "Epoch: 2/5\tBatch: 4545/5955 Samples:145440/190551 (76 %) \tLoss: 2.091\tElapsed Time: 14.35s\n",
      "Epoch: 2/5\tBatch: 5045/5955 Samples:161440/190551 (84 %) \tLoss: 1.972\tElapsed Time: 15.93s\n",
      "Epoch: 2/5\tBatch: 5545/5955 Samples:177440/190551 (93 %) \tLoss: 2.065\tElapsed Time: 17.52s\n",
      "\n",
      "Test set: Average loss: 2.0994, Accuracy: 10245/47638 (22%)\n",
      "\n",
      "================================================== \n",
      "Elapsed time: 24.50s\n",
      "\n",
      "Epoch: 3/5\tBatch:   90/5955 Samples:  2880/190551 (1  %) \tLoss: 2.312\tElapsed Time: 0.33s\n",
      "Epoch: 3/5\tBatch:  590/5955 Samples: 18880/190551 (9  %) \tLoss: 1.808\tElapsed Time: 2.01s\n",
      "Epoch: 3/5\tBatch: 1090/5955 Samples: 34880/190551 (18 %) \tLoss: 1.935\tElapsed Time: 3.63s\n",
      "Epoch: 3/5\tBatch: 1590/5955 Samples: 50880/190551 (26 %) \tLoss: 2.103\tElapsed Time: 5.35s\n",
      "Epoch: 3/5\tBatch: 2090/5955 Samples: 66880/190551 (35 %) \tLoss: 1.992\tElapsed Time: 6.93s\n",
      "Epoch: 3/5\tBatch: 2590/5955 Samples: 82880/190551 (43 %) \tLoss: 1.730\tElapsed Time: 8.62s\n",
      "Epoch: 3/5\tBatch: 3090/5955 Samples: 98880/190551 (51 %) \tLoss: 2.133\tElapsed Time: 10.20s\n",
      "Epoch: 3/5\tBatch: 3590/5955 Samples:114880/190551 (60 %) \tLoss: 1.979\tElapsed Time: 12.03s\n",
      "Epoch: 3/5\tBatch: 4090/5955 Samples:130880/190551 (68 %) \tLoss: 1.907\tElapsed Time: 13.75s\n",
      "Epoch: 3/5\tBatch: 4590/5955 Samples:146880/190551 (77 %) \tLoss: 2.051\tElapsed Time: 15.48s\n",
      "Epoch: 3/5\tBatch: 5090/5955 Samples:162880/190551 (85 %) \tLoss: 2.028\tElapsed Time: 17.11s\n",
      "Epoch: 3/5\tBatch: 5590/5955 Samples:178880/190551 (93 %) \tLoss: 1.846\tElapsed Time: 18.68s\n",
      "\n",
      "Test set: Average loss: 2.1011, Accuracy: 11781/47638 (25%)\n",
      "\n",
      "================================================== \n",
      "Elapsed time: 24.68s\n",
      "\n",
      "Epoch: 4/5\tBatch:  135/5955 Samples:  4320/190551 (2  %) \tLoss: 1.642\tElapsed Time: 0.48s\n",
      "Epoch: 4/5\tBatch:  635/5955 Samples: 20320/190551 (10 %) \tLoss: 2.228\tElapsed Time: 2.14s\n",
      "Epoch: 4/5\tBatch: 1135/5955 Samples: 36320/190551 (19 %) \tLoss: 2.140\tElapsed Time: 3.93s\n",
      "Epoch: 4/5\tBatch: 1635/5955 Samples: 52320/190551 (27 %) \tLoss: 2.152\tElapsed Time: 5.68s\n",
      "Epoch: 4/5\tBatch: 2135/5955 Samples: 68320/190551 (35 %) \tLoss: 1.621\tElapsed Time: 7.20s\n",
      "Epoch: 4/5\tBatch: 2635/5955 Samples: 84320/190551 (44 %) \tLoss: 2.128\tElapsed Time: 8.73s\n",
      "Epoch: 4/5\tBatch: 3135/5955 Samples:100320/190551 (52 %) \tLoss: 1.785\tElapsed Time: 10.39s\n",
      "Epoch: 4/5\tBatch: 3635/5955 Samples:116320/190551 (61 %) \tLoss: 1.903\tElapsed Time: 12.06s\n",
      "Epoch: 4/5\tBatch: 4135/5955 Samples:132320/190551 (69 %) \tLoss: 2.254\tElapsed Time: 13.65s\n",
      "Epoch: 4/5\tBatch: 4635/5955 Samples:148320/190551 (77 %) \tLoss: 1.947\tElapsed Time: 15.29s\n",
      "Epoch: 4/5\tBatch: 5135/5955 Samples:164320/190551 (86 %) \tLoss: 2.223\tElapsed Time: 16.94s\n",
      "Epoch: 4/5\tBatch: 5635/5955 Samples:180320/190551 (94 %) \tLoss: 1.476\tElapsed Time: 18.74s\n",
      "\n",
      "Test set: Average loss: 2.1172, Accuracy: 10690/47638 (22%)\n",
      "\n",
      "================================================== \n",
      "Elapsed time: 25.37s\n",
      "\n",
      "Epoch: 5/5\tBatch:  180/5955 Samples:  5760/190551 (3  %) \tLoss: 1.838\tElapsed Time: 0.62s\n",
      "Epoch: 5/5\tBatch:  680/5955 Samples: 21760/190551 (11 %) \tLoss: 1.519\tElapsed Time: 2.22s\n",
      "Epoch: 5/5\tBatch: 1180/5955 Samples: 37760/190551 (19 %) \tLoss: 1.732\tElapsed Time: 3.99s\n",
      "Epoch: 5/5\tBatch: 1680/5955 Samples: 53760/190551 (28 %) \tLoss: 2.092\tElapsed Time: 5.57s\n",
      "Epoch: 5/5\tBatch: 2180/5955 Samples: 69760/190551 (36 %) \tLoss: 1.760\tElapsed Time: 7.29s\n",
      "Epoch: 5/5\tBatch: 2680/5955 Samples: 85760/190551 (45 %) \tLoss: 1.682\tElapsed Time: 8.90s\n",
      "Epoch: 5/5\tBatch: 3180/5955 Samples:101760/190551 (53 %) \tLoss: 1.348\tElapsed Time: 10.63s\n",
      "Epoch: 5/5\tBatch: 3680/5955 Samples:117760/190551 (61 %) \tLoss: 2.054\tElapsed Time: 12.13s\n",
      "Epoch: 5/5\tBatch: 4180/5955 Samples:133760/190551 (70 %) \tLoss: 1.714\tElapsed Time: 13.77s\n",
      "Epoch: 5/5\tBatch: 4680/5955 Samples:149760/190551 (78 %) \tLoss: 1.573\tElapsed Time: 15.29s\n",
      "Epoch: 5/5\tBatch: 5180/5955 Samples:165760/190551 (86 %) \tLoss: 1.832\tElapsed Time: 16.89s\n",
      "Epoch: 5/5\tBatch: 5680/5955 Samples:181760/190551 (95 %) \tLoss: 1.779\tElapsed Time: 18.61s\n",
      "\n",
      "Test set: Average loss: 2.1594, Accuracy: 9757/47638 (20%)\n",
      "\n",
      "Accuracy for Country: 38.157%\n",
      "Accuracy for Electronic: 26.689%\n",
      "Accuracy for Folk: 22.459%\n",
      "Accuracy for Hip-Hop: 51.750%\n",
      "Accuracy for Indie: 17.105%\n",
      "Accuracy for Jazz: 30.754%\n",
      "Accuracy for Metal: 47.607%\n",
      "Accuracy for Other: 16.567%\n",
      "Accuracy for Pop: 11.003%\n",
      "Accuracy for R&B: 27.955%\n",
      "Accuracy for Rock: 7.503%\n",
      "\n",
      "Mean per class accuracy: 27.050%\n",
      "================================================== \n",
      "Elapsed time: 24.25s\n",
      "\n",
      "Training completed!!!\n",
      "Total training time: 121.84069085121155\n"
     ]
    },
    {
     "data": {
      "image/png": "[encoded data removed]",
      "text/plain": [
       "<Figure size 432x288 with 2 Axes>"
      ]
     },
     "metadata": {
      "needs_background": "light"
     },
     "output_type": "display_data"
    }
   ],
   "source": [
    "N_EPOCHS = 5\n",
    "lr = 1e-4\n",
    "t0 = time.time()\n",
    "train_loop(N_EPOCHS)\n",
    "print(f'Training completed!!!\\nTotal training time: {time.time() - t0}')"
   ]
  },
  {
   "cell_type": "markdown",
   "metadata": {},
   "source": [
    "Unfortunatly, we were unable to create an efficient architecture for training, and much more tunning of the network is needed."
   ]
  }
 ],
 "metadata": {
  "kernelspec": {
   "display_name": "Python 3",
   "language": "python",
   "name": "python3"
  },
  "language_info": {
   "codemirror_mode": {
    "name": "ipython",
    "version": 3
   },
   "file_extension": ".py",
   "mimetype": "text/x-python",
   "name": "python",
   "nbconvert_exporter": "python",
   "pygments_lexer": "ipython3",
   "version": "3.6.10"
  }
 },
 "nbformat": 4,
 "nbformat_minor": 4
}
